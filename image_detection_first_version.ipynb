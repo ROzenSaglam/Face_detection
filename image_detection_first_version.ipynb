{
  "nbformat": 4,
  "nbformat_minor": 0,
  "metadata": {
    "colab": {
      "provenance": [],
      "mount_file_id": "1NEj4EPrHR3FDQyaNQ9FbeoWu3F7R_Ley",
      "authorship_tag": "ABX9TyP/7w+tNsytTQghS8WfnhKb",
      "include_colab_link": true
    },
    "kernelspec": {
      "name": "python3",
      "display_name": "Python 3"
    },
    "language_info": {
      "name": "python"
    },
    "gpuClass": "standard"
  },
  "cells": [
    {
      "cell_type": "markdown",
      "metadata": {
        "id": "view-in-github",
        "colab_type": "text"
      },
      "source": [
        "<a href=\"https://colab.research.google.com/github/ROzenSaglam/Face_detection/blob/main/image_detection_first_version.ipynb\" target=\"_parent\"><img src=\"https://colab.research.google.com/assets/colab-badge.svg\" alt=\"Open In Colab\"/></a>"
      ]
    },
    {
      "cell_type": "code",
      "execution_count": null,
      "metadata": {
        "colab": {
          "base_uri": "https://localhost:8080/"
        },
        "id": "P218xaUvPMJl",
        "outputId": "20cc8c26-0ef8-43d6-a971-da84cdd4a879"
      },
      "outputs": [
        {
          "output_type": "stream",
          "name": "stdout",
          "text": [
            "Looking in indexes: https://pypi.org/simple, https://us-python.pkg.dev/colab-wheels/public/simple/\n",
            "Collecting labelme\n",
            "  Downloading labelme-5.1.1.tar.gz (1.5 MB)\n",
            "\u001b[2K     \u001b[90m━━━━━━━━━━━━━━━━━━━━━━━━━━━━━━━━━━━━━━━━\u001b[0m \u001b[32m1.5/1.5 MB\u001b[0m \u001b[31m47.8 MB/s\u001b[0m eta \u001b[36m0:00:00\u001b[0m\n",
            "\u001b[?25h  Preparing metadata (setup.py) ... \u001b[?25l\u001b[?25hdone\n",
            "Requirement already satisfied: tensorflow in /usr/local/lib/python3.8/dist-packages (2.9.2)\n",
            "Requirement already satisfied: opencv-python in /usr/local/lib/python3.8/dist-packages (4.6.0.66)\n",
            "Requirement already satisfied: matplotlib in /usr/local/lib/python3.8/dist-packages (3.2.2)\n",
            "Requirement already satisfied: albumentations in /usr/local/lib/python3.8/dist-packages (1.2.1)\n",
            "Collecting imgviz>=0.11\n",
            "  Downloading imgviz-1.6.2.tar.gz (7.7 MB)\n",
            "\u001b[2K     \u001b[90m━━━━━━━━━━━━━━━━━━━━━━━━━━━━━━━━━━━━━━━━\u001b[0m \u001b[32m7.7/7.7 MB\u001b[0m \u001b[31m84.4 MB/s\u001b[0m eta \u001b[36m0:00:00\u001b[0m\n",
            "\u001b[?25h  Installing build dependencies ... \u001b[?25l\u001b[?25hdone\n",
            "  Getting requirements to build wheel ... \u001b[?25l\u001b[?25hdone\n",
            "  Preparing metadata (pyproject.toml) ... \u001b[?25l\u001b[?25hdone\n",
            "Collecting natsort>=7.1.0\n",
            "  Downloading natsort-8.2.0-py3-none-any.whl (37 kB)\n",
            "Requirement already satisfied: numpy in /usr/local/lib/python3.8/dist-packages (from labelme) (1.21.6)\n",
            "Requirement already satisfied: Pillow>=2.8 in /usr/local/lib/python3.8/dist-packages (from labelme) (7.1.2)\n",
            "Requirement already satisfied: PyYAML in /usr/local/lib/python3.8/dist-packages (from labelme) (6.0)\n",
            "Collecting qtpy!=1.11.2\n",
            "  Downloading QtPy-2.3.0-py3-none-any.whl (83 kB)\n",
            "\u001b[2K     \u001b[90m━━━━━━━━━━━━━━━━━━━━━━━━━━━━━━━━━━━━━━━━\u001b[0m \u001b[32m83.6/83.6 KB\u001b[0m \u001b[31m12.7 MB/s\u001b[0m eta \u001b[36m0:00:00\u001b[0m\n",
            "\u001b[?25hRequirement already satisfied: termcolor in /usr/local/lib/python3.8/dist-packages (from labelme) (2.1.1)\n",
            "Collecting PyQt5!=5.15.3,!=5.15.4\n",
            "  Downloading PyQt5-5.15.7-cp37-abi3-manylinux1_x86_64.whl (8.4 MB)\n",
            "\u001b[2K     \u001b[90m━━━━━━━━━━━━━━━━━━━━━━━━━━━━━━━━━━━━━━━━\u001b[0m \u001b[32m8.4/8.4 MB\u001b[0m \u001b[31m51.1 MB/s\u001b[0m eta \u001b[36m0:00:00\u001b[0m\n",
            "\u001b[?25hRequirement already satisfied: protobuf<3.20,>=3.9.2 in /usr/local/lib/python3.8/dist-packages (from tensorflow) (3.19.6)\n",
            "Requirement already satisfied: h5py>=2.9.0 in /usr/local/lib/python3.8/dist-packages (from tensorflow) (3.1.0)\n",
            "Requirement already satisfied: flatbuffers<2,>=1.12 in /usr/local/lib/python3.8/dist-packages (from tensorflow) (1.12)\n",
            "Requirement already satisfied: keras-preprocessing>=1.1.1 in /usr/local/lib/python3.8/dist-packages (from tensorflow) (1.1.2)\n",
            "Requirement already satisfied: six>=1.12.0 in /usr/local/lib/python3.8/dist-packages (from tensorflow) (1.15.0)\n",
            "Requirement already satisfied: opt-einsum>=2.3.2 in /usr/local/lib/python3.8/dist-packages (from tensorflow) (3.3.0)\n",
            "Requirement already satisfied: grpcio<2.0,>=1.24.3 in /usr/local/lib/python3.8/dist-packages (from tensorflow) (1.51.1)\n",
            "Requirement already satisfied: typing-extensions>=3.6.6 in /usr/local/lib/python3.8/dist-packages (from tensorflow) (4.4.0)\n",
            "Requirement already satisfied: astunparse>=1.6.0 in /usr/local/lib/python3.8/dist-packages (from tensorflow) (1.6.3)\n",
            "Requirement already satisfied: gast<=0.4.0,>=0.2.1 in /usr/local/lib/python3.8/dist-packages (from tensorflow) (0.4.0)\n",
            "Requirement already satisfied: tensorboard<2.10,>=2.9 in /usr/local/lib/python3.8/dist-packages (from tensorflow) (2.9.1)\n",
            "Requirement already satisfied: tensorflow-estimator<2.10.0,>=2.9.0rc0 in /usr/local/lib/python3.8/dist-packages (from tensorflow) (2.9.0)\n",
            "Requirement already satisfied: absl-py>=1.0.0 in /usr/local/lib/python3.8/dist-packages (from tensorflow) (1.3.0)\n",
            "Requirement already satisfied: tensorflow-io-gcs-filesystem>=0.23.1 in /usr/local/lib/python3.8/dist-packages (from tensorflow) (0.29.0)\n",
            "Requirement already satisfied: libclang>=13.0.0 in /usr/local/lib/python3.8/dist-packages (from tensorflow) (14.0.6)\n",
            "Requirement already satisfied: packaging in /usr/local/lib/python3.8/dist-packages (from tensorflow) (21.3)\n",
            "Requirement already satisfied: wrapt>=1.11.0 in /usr/local/lib/python3.8/dist-packages (from tensorflow) (1.14.1)\n",
            "Requirement already satisfied: google-pasta>=0.1.1 in /usr/local/lib/python3.8/dist-packages (from tensorflow) (0.2.0)\n",
            "Requirement already satisfied: setuptools in /usr/local/lib/python3.8/dist-packages (from tensorflow) (57.4.0)\n",
            "Requirement already satisfied: keras<2.10.0,>=2.9.0rc0 in /usr/local/lib/python3.8/dist-packages (from tensorflow) (2.9.0)\n",
            "Requirement already satisfied: python-dateutil>=2.1 in /usr/local/lib/python3.8/dist-packages (from matplotlib) (2.8.2)\n",
            "Requirement already satisfied: kiwisolver>=1.0.1 in /usr/local/lib/python3.8/dist-packages (from matplotlib) (1.4.4)\n",
            "Requirement already satisfied: pyparsing!=2.0.4,!=2.1.2,!=2.1.6,>=2.0.1 in /usr/local/lib/python3.8/dist-packages (from matplotlib) (3.0.9)\n",
            "Requirement already satisfied: cycler>=0.10 in /usr/local/lib/python3.8/dist-packages (from matplotlib) (0.11.0)\n",
            "Requirement already satisfied: opencv-python-headless>=4.1.1 in /usr/local/lib/python3.8/dist-packages (from albumentations) (4.6.0.66)\n",
            "Requirement already satisfied: qudida>=0.0.4 in /usr/local/lib/python3.8/dist-packages (from albumentations) (0.0.4)\n",
            "Requirement already satisfied: scipy in /usr/local/lib/python3.8/dist-packages (from albumentations) (1.7.3)\n",
            "Requirement already satisfied: scikit-image>=0.16.1 in /usr/local/lib/python3.8/dist-packages (from albumentations) (0.18.3)\n",
            "Requirement already satisfied: wheel<1.0,>=0.23.0 in /usr/local/lib/python3.8/dist-packages (from astunparse>=1.6.0->tensorflow) (0.38.4)\n",
            "Collecting PyQt5-sip<13,>=12.11\n",
            "  Downloading PyQt5_sip-12.11.0-cp38-cp38-manylinux1_x86_64.whl (361 kB)\n",
            "\u001b[2K     \u001b[90m━━━━━━━━━━━━━━━━━━━━━━━━━━━━━━━━━━━━━━\u001b[0m \u001b[32m361.4/361.4 KB\u001b[0m \u001b[31m26.9 MB/s\u001b[0m eta \u001b[36m0:00:00\u001b[0m\n",
            "\u001b[?25hCollecting PyQt5-Qt5>=5.15.0\n",
            "  Downloading PyQt5_Qt5-5.15.2-py3-none-manylinux2014_x86_64.whl (59.9 MB)\n",
            "\u001b[2K     \u001b[90m━━━━━━━━━━━━━━━━━━━━━━━━━━━━━━━━━━━━━━━━\u001b[0m \u001b[32m59.9/59.9 MB\u001b[0m \u001b[31m11.9 MB/s\u001b[0m eta \u001b[36m0:00:00\u001b[0m\n",
            "\u001b[?25hRequirement already satisfied: scikit-learn>=0.19.1 in /usr/local/lib/python3.8/dist-packages (from qudida>=0.0.4->albumentations) (1.0.2)\n",
            "Requirement already satisfied: PyWavelets>=1.1.1 in /usr/local/lib/python3.8/dist-packages (from scikit-image>=0.16.1->albumentations) (1.4.1)\n",
            "Requirement already satisfied: networkx>=2.0 in /usr/local/lib/python3.8/dist-packages (from scikit-image>=0.16.1->albumentations) (2.8.8)\n",
            "Requirement already satisfied: tifffile>=2019.7.26 in /usr/local/lib/python3.8/dist-packages (from scikit-image>=0.16.1->albumentations) (2022.10.10)\n",
            "Requirement already satisfied: imageio>=2.3.0 in /usr/local/lib/python3.8/dist-packages (from scikit-image>=0.16.1->albumentations) (2.9.0)\n",
            "Requirement already satisfied: markdown>=2.6.8 in /usr/local/lib/python3.8/dist-packages (from tensorboard<2.10,>=2.9->tensorflow) (3.4.1)\n",
            "Requirement already satisfied: tensorboard-plugin-wit>=1.6.0 in /usr/local/lib/python3.8/dist-packages (from tensorboard<2.10,>=2.9->tensorflow) (1.8.1)\n",
            "Requirement already satisfied: google-auth<3,>=1.6.3 in /usr/local/lib/python3.8/dist-packages (from tensorboard<2.10,>=2.9->tensorflow) (2.15.0)\n",
            "Requirement already satisfied: tensorboard-data-server<0.7.0,>=0.6.0 in /usr/local/lib/python3.8/dist-packages (from tensorboard<2.10,>=2.9->tensorflow) (0.6.1)\n",
            "Requirement already satisfied: werkzeug>=1.0.1 in /usr/local/lib/python3.8/dist-packages (from tensorboard<2.10,>=2.9->tensorflow) (1.0.1)\n",
            "Requirement already satisfied: google-auth-oauthlib<0.5,>=0.4.1 in /usr/local/lib/python3.8/dist-packages (from tensorboard<2.10,>=2.9->tensorflow) (0.4.6)\n",
            "Requirement already satisfied: requests<3,>=2.21.0 in /usr/local/lib/python3.8/dist-packages (from tensorboard<2.10,>=2.9->tensorflow) (2.25.1)\n",
            "Requirement already satisfied: cachetools<6.0,>=2.0.0 in /usr/local/lib/python3.8/dist-packages (from google-auth<3,>=1.6.3->tensorboard<2.10,>=2.9->tensorflow) (5.2.0)\n",
            "Requirement already satisfied: pyasn1-modules>=0.2.1 in /usr/local/lib/python3.8/dist-packages (from google-auth<3,>=1.6.3->tensorboard<2.10,>=2.9->tensorflow) (0.2.8)\n",
            "Requirement already satisfied: rsa<5,>=3.1.4 in /usr/local/lib/python3.8/dist-packages (from google-auth<3,>=1.6.3->tensorboard<2.10,>=2.9->tensorflow) (4.9)\n",
            "Requirement already satisfied: requests-oauthlib>=0.7.0 in /usr/local/lib/python3.8/dist-packages (from google-auth-oauthlib<0.5,>=0.4.1->tensorboard<2.10,>=2.9->tensorflow) (1.3.1)\n",
            "Requirement already satisfied: importlib-metadata>=4.4 in /usr/local/lib/python3.8/dist-packages (from markdown>=2.6.8->tensorboard<2.10,>=2.9->tensorflow) (5.2.0)\n",
            "Requirement already satisfied: chardet<5,>=3.0.2 in /usr/local/lib/python3.8/dist-packages (from requests<3,>=2.21.0->tensorboard<2.10,>=2.9->tensorflow) (4.0.0)\n",
            "Requirement already satisfied: certifi>=2017.4.17 in /usr/local/lib/python3.8/dist-packages (from requests<3,>=2.21.0->tensorboard<2.10,>=2.9->tensorflow) (2022.12.7)\n",
            "Requirement already satisfied: urllib3<1.27,>=1.21.1 in /usr/local/lib/python3.8/dist-packages (from requests<3,>=2.21.0->tensorboard<2.10,>=2.9->tensorflow) (1.24.3)\n",
            "Requirement already satisfied: idna<3,>=2.5 in /usr/local/lib/python3.8/dist-packages (from requests<3,>=2.21.0->tensorboard<2.10,>=2.9->tensorflow) (2.10)\n",
            "Requirement already satisfied: threadpoolctl>=2.0.0 in /usr/local/lib/python3.8/dist-packages (from scikit-learn>=0.19.1->qudida>=0.0.4->albumentations) (3.1.0)\n",
            "Requirement already satisfied: joblib>=0.11 in /usr/local/lib/python3.8/dist-packages (from scikit-learn>=0.19.1->qudida>=0.0.4->albumentations) (1.2.0)\n",
            "Requirement already satisfied: zipp>=0.5 in /usr/local/lib/python3.8/dist-packages (from importlib-metadata>=4.4->markdown>=2.6.8->tensorboard<2.10,>=2.9->tensorflow) (3.11.0)\n",
            "Requirement already satisfied: pyasn1<0.5.0,>=0.4.6 in /usr/local/lib/python3.8/dist-packages (from pyasn1-modules>=0.2.1->google-auth<3,>=1.6.3->tensorboard<2.10,>=2.9->tensorflow) (0.4.8)\n",
            "Requirement already satisfied: oauthlib>=3.0.0 in /usr/local/lib/python3.8/dist-packages (from requests-oauthlib>=0.7.0->google-auth-oauthlib<0.5,>=0.4.1->tensorboard<2.10,>=2.9->tensorflow) (3.2.2)\n",
            "Building wheels for collected packages: labelme, imgviz\n",
            "  Building wheel for labelme (setup.py) ... \u001b[?25l\u001b[?25hdone\n",
            "  Created wheel for labelme: filename=labelme-5.1.1-py3-none-any.whl size=1466366 sha256=33c78e8bc61acdfa87b1ec3449c83a89701846e50e29133b83d4df4ef6c43f72\n",
            "  Stored in directory: /root/.cache/pip/wheels/73/89/84/442d4814015c451509500658c0cbe3aff0ccfaf09753246243\n",
            "  Building wheel for imgviz (pyproject.toml) ... \u001b[?25l\u001b[?25hdone\n",
            "  Created wheel for imgviz: filename=imgviz-1.6.2-py3-none-any.whl size=7681466 sha256=bd9d7432ffd1371f94c457c0376cb1e02127807feb2af531426e5c3f52dbd20b\n",
            "  Stored in directory: /root/.cache/pip/wheels/91/97/fb/ee0574a5e948e226243408761ed4d197e4da59ebe8536836eb\n",
            "Successfully built labelme imgviz\n",
            "Installing collected packages: PyQt5-Qt5, PyQt5-sip, natsort, qtpy, PyQt5, imgviz, labelme\n",
            "  Attempting uninstall: natsort\n",
            "    Found existing installation: natsort 5.5.0\n",
            "    Uninstalling natsort-5.5.0:\n",
            "      Successfully uninstalled natsort-5.5.0\n",
            "Successfully installed PyQt5-5.15.7 PyQt5-Qt5-5.15.2 PyQt5-sip-12.11.0 imgviz-1.6.2 labelme-5.1.1 natsort-8.2.0 qtpy-2.3.0\n"
          ]
        }
      ],
      "source": [
        "!pip install labelme tensorflow opencv-python matplotlib albumentations"
      ]
    },
    {
      "cell_type": "code",
      "source": [
        "# 1. Collecting Images\n",
        "\n",
        "import os\n",
        "import time\n",
        "import uuid\n",
        "import cv2\n",
        "\n",
        "print(\"Successfully imported!\")"
      ],
      "metadata": {
        "colab": {
          "base_uri": "https://localhost:8080/"
        },
        "id": "9p31CHQnPYc9",
        "outputId": "efb4b7ca-2078-493e-fb65-e8b75d2f9a8a"
      },
      "execution_count": null,
      "outputs": [
        {
          "output_type": "stream",
          "name": "stdout",
          "text": [
            "Successfully imported!\n"
          ]
        }
      ]
    },
    {
      "cell_type": "code",
      "source": [],
      "metadata": {
        "id": "KcdZXsgDwv4r"
      },
      "execution_count": null,
      "outputs": []
    },
    {
      "cell_type": "code",
      "source": [
        "import json\n",
        "import numpy as np\n",
        "from matplotlib import pyplot as plt\n",
        "import tensorflow as tf\n"
      ],
      "metadata": {
        "id": "0lvbsV_cPkEV"
      },
      "execution_count": null,
      "outputs": []
    },
    {
      "cell_type": "code",
      "source": [],
      "metadata": {
        "id": "EBATvU3XPrzT"
      },
      "execution_count": null,
      "outputs": []
    },
    {
      "cell_type": "code",
      "source": [
        "image_path = os.path.join('data','image')\n",
        "number_images = 30"
      ],
      "metadata": {
        "id": "KuFvpPscPyvT",
        "colab": {
          "base_uri": "https://localhost:8080/",
          "height": 187
        },
        "outputId": "7343e4cf-39c1-400c-a92e-8e88f9f7390a"
      },
      "execution_count": null,
      "outputs": [
        {
          "output_type": "error",
          "ename": "NameError",
          "evalue": "ignored",
          "traceback": [
            "\u001b[0;31m---------------------------------------------------------------------------\u001b[0m",
            "\u001b[0;31mNameError\u001b[0m                                 Traceback (most recent call last)",
            "\u001b[0;32m<ipython-input-2-2f52ff9c81ce>\u001b[0m in \u001b[0;36m<module>\u001b[0;34m\u001b[0m\n\u001b[0;32m----> 1\u001b[0;31m \u001b[0mimage_path\u001b[0m \u001b[0;34m=\u001b[0m \u001b[0mos\u001b[0m\u001b[0;34m.\u001b[0m\u001b[0mpath\u001b[0m\u001b[0;34m.\u001b[0m\u001b[0mjoin\u001b[0m\u001b[0;34m(\u001b[0m\u001b[0;34m'data'\u001b[0m\u001b[0;34m,\u001b[0m\u001b[0;34m'image'\u001b[0m\u001b[0;34m)\u001b[0m\u001b[0;34m\u001b[0m\u001b[0;34m\u001b[0m\u001b[0m\n\u001b[0m\u001b[1;32m      2\u001b[0m \u001b[0mnumber_images\u001b[0m \u001b[0;34m=\u001b[0m \u001b[0;36m30\u001b[0m\u001b[0;34m\u001b[0m\u001b[0;34m\u001b[0m\u001b[0m\n",
            "\u001b[0;31mNameError\u001b[0m: name 'os' is not defined"
          ]
        }
      ]
    },
    {
      "cell_type": "code",
      "source": [],
      "metadata": {
        "colab": {
          "base_uri": "https://localhost:8080/"
        },
        "id": "8CBTSyg6P6WQ",
        "outputId": "1e6fd26e-0dff-4f43-ed19-348b7e43adf6"
      },
      "execution_count": null,
      "outputs": [
        {
          "output_type": "execute_result",
          "data": {
            "text/plain": [
              "[]"
            ]
          },
          "metadata": {},
          "execution_count": 4
        }
      ]
    },
    {
      "cell_type": "code",
      "source": [
        "images = tf.data.Dataset.list_files('/content/drive/MyDrive/data/image/*.jpg', shuffle = False)"
      ],
      "metadata": {
        "colab": {
          "base_uri": "https://localhost:8080/",
          "height": 353
        },
        "id": "HfSQFcsqQG1I",
        "outputId": "06b217df-aea6-4291-c3ea-3929d0e57658"
      },
      "execution_count": null,
      "outputs": [
        {
          "output_type": "error",
          "ename": "InvalidArgumentError",
          "evalue": "ignored",
          "traceback": [
            "\u001b[0;31m---------------------------------------------------------------------------\u001b[0m",
            "\u001b[0;31mInvalidArgumentError\u001b[0m                      Traceback (most recent call last)",
            "\u001b[0;32m<ipython-input-4-41e8b0d1818f>\u001b[0m in \u001b[0;36m<module>\u001b[0;34m\u001b[0m\n\u001b[0;32m----> 1\u001b[0;31m \u001b[0mimages\u001b[0m \u001b[0;34m=\u001b[0m \u001b[0mtf\u001b[0m\u001b[0;34m.\u001b[0m\u001b[0mdata\u001b[0m\u001b[0;34m.\u001b[0m\u001b[0mDataset\u001b[0m\u001b[0;34m.\u001b[0m\u001b[0mlist_files\u001b[0m\u001b[0;34m(\u001b[0m\u001b[0;34m'/content/drive/MyDrive/data/image/*.jpg'\u001b[0m\u001b[0;34m,\u001b[0m \u001b[0mshuffle\u001b[0m \u001b[0;34m=\u001b[0m \u001b[0;32mFalse\u001b[0m\u001b[0;34m)\u001b[0m\u001b[0;34m\u001b[0m\u001b[0;34m\u001b[0m\u001b[0m\n\u001b[0m",
            "\u001b[0;32m/usr/local/lib/python3.8/dist-packages/tensorflow/python/data/ops/dataset_ops.py\u001b[0m in \u001b[0;36mlist_files\u001b[0;34m(file_pattern, shuffle, seed, name)\u001b[0m\n\u001b[1;32m   1377\u001b[0m           string_ops.reduce_join(file_pattern, separator=\", \"), name=\"message\")\n\u001b[1;32m   1378\u001b[0m \u001b[0;34m\u001b[0m\u001b[0m\n\u001b[0;32m-> 1379\u001b[0;31m       assert_not_empty = control_flow_ops.Assert(\n\u001b[0m\u001b[1;32m   1380\u001b[0m           condition, [message], summarize=1, name=\"assert_not_empty\")\n\u001b[1;32m   1381\u001b[0m       \u001b[0;32mwith\u001b[0m \u001b[0mops\u001b[0m\u001b[0;34m.\u001b[0m\u001b[0mcontrol_dependencies\u001b[0m\u001b[0;34m(\u001b[0m\u001b[0;34m[\u001b[0m\u001b[0massert_not_empty\u001b[0m\u001b[0;34m]\u001b[0m\u001b[0;34m)\u001b[0m\u001b[0;34m:\u001b[0m\u001b[0;34m\u001b[0m\u001b[0;34m\u001b[0m\u001b[0m\n",
            "\u001b[0;32m/usr/local/lib/python3.8/dist-packages/tensorflow/python/util/traceback_utils.py\u001b[0m in \u001b[0;36merror_handler\u001b[0;34m(*args, **kwargs)\u001b[0m\n\u001b[1;32m    151\u001b[0m     \u001b[0;32mexcept\u001b[0m \u001b[0mException\u001b[0m \u001b[0;32mas\u001b[0m \u001b[0me\u001b[0m\u001b[0;34m:\u001b[0m\u001b[0;34m\u001b[0m\u001b[0;34m\u001b[0m\u001b[0m\n\u001b[1;32m    152\u001b[0m       \u001b[0mfiltered_tb\u001b[0m \u001b[0;34m=\u001b[0m \u001b[0m_process_traceback_frames\u001b[0m\u001b[0;34m(\u001b[0m\u001b[0me\u001b[0m\u001b[0;34m.\u001b[0m\u001b[0m__traceback__\u001b[0m\u001b[0;34m)\u001b[0m\u001b[0;34m\u001b[0m\u001b[0;34m\u001b[0m\u001b[0m\n\u001b[0;32m--> 153\u001b[0;31m       \u001b[0;32mraise\u001b[0m \u001b[0me\u001b[0m\u001b[0;34m.\u001b[0m\u001b[0mwith_traceback\u001b[0m\u001b[0;34m(\u001b[0m\u001b[0mfiltered_tb\u001b[0m\u001b[0;34m)\u001b[0m \u001b[0;32mfrom\u001b[0m \u001b[0;32mNone\u001b[0m\u001b[0;34m\u001b[0m\u001b[0;34m\u001b[0m\u001b[0m\n\u001b[0m\u001b[1;32m    154\u001b[0m     \u001b[0;32mfinally\u001b[0m\u001b[0;34m:\u001b[0m\u001b[0;34m\u001b[0m\u001b[0;34m\u001b[0m\u001b[0m\n\u001b[1;32m    155\u001b[0m       \u001b[0;32mdel\u001b[0m \u001b[0mfiltered_tb\u001b[0m\u001b[0;34m\u001b[0m\u001b[0;34m\u001b[0m\u001b[0m\n",
            "\u001b[0;32m/usr/local/lib/python3.8/dist-packages/tensorflow/python/ops/control_flow_ops.py\u001b[0m in \u001b[0;36mAssert\u001b[0;34m(condition, data, summarize, name)\u001b[0m\n\u001b[1;32m    153\u001b[0m       \u001b[0mxs\u001b[0m \u001b[0;34m=\u001b[0m \u001b[0mops\u001b[0m\u001b[0;34m.\u001b[0m\u001b[0mconvert_n_to_tensor\u001b[0m\u001b[0;34m(\u001b[0m\u001b[0mdata\u001b[0m\u001b[0;34m)\u001b[0m\u001b[0;34m\u001b[0m\u001b[0;34m\u001b[0m\u001b[0m\n\u001b[1;32m    154\u001b[0m       \u001b[0mdata_str\u001b[0m \u001b[0;34m=\u001b[0m \u001b[0;34m[\u001b[0m\u001b[0m_summarize_eager\u001b[0m\u001b[0;34m(\u001b[0m\u001b[0mx\u001b[0m\u001b[0;34m,\u001b[0m \u001b[0msummarize\u001b[0m\u001b[0;34m)\u001b[0m \u001b[0;32mfor\u001b[0m \u001b[0mx\u001b[0m \u001b[0;32min\u001b[0m \u001b[0mxs\u001b[0m\u001b[0;34m]\u001b[0m\u001b[0;34m\u001b[0m\u001b[0;34m\u001b[0m\u001b[0m\n\u001b[0;32m--> 155\u001b[0;31m       raise errors.InvalidArgumentError(\n\u001b[0m\u001b[1;32m    156\u001b[0m           \u001b[0mnode_def\u001b[0m\u001b[0;34m=\u001b[0m\u001b[0;32mNone\u001b[0m\u001b[0;34m,\u001b[0m\u001b[0;34m\u001b[0m\u001b[0;34m\u001b[0m\u001b[0m\n\u001b[1;32m    157\u001b[0m           \u001b[0mop\u001b[0m\u001b[0;34m=\u001b[0m\u001b[0;32mNone\u001b[0m\u001b[0;34m,\u001b[0m\u001b[0;34m\u001b[0m\u001b[0;34m\u001b[0m\u001b[0m\n",
            "\u001b[0;31mInvalidArgumentError\u001b[0m: Expected 'tf.Tensor(False, shape=(), dtype=bool)' to be true. Summarized data: b'No files matched pattern: /content/drive/MyDrive/data/image/*.jpg'"
          ]
        }
      ]
    },
    {
      "cell_type": "code",
      "source": [
        "images.as_numpy_iterator().next()"
      ],
      "metadata": {
        "colab": {
          "base_uri": "https://localhost:8080/",
          "height": 169
        },
        "id": "HzM9p0ZNnVm8",
        "outputId": "99bac7ca-7dff-4e48-bcae-1938ecc5c231"
      },
      "execution_count": null,
      "outputs": [
        {
          "output_type": "error",
          "ename": "NameError",
          "evalue": "ignored",
          "traceback": [
            "\u001b[0;31m---------------------------------------------------------------------------\u001b[0m",
            "\u001b[0;31mNameError\u001b[0m                                 Traceback (most recent call last)",
            "\u001b[0;32m<ipython-input-6-6e48b0f12ac4>\u001b[0m in \u001b[0;36m<module>\u001b[0;34m\u001b[0m\n\u001b[0;32m----> 1\u001b[0;31m \u001b[0mimages\u001b[0m\u001b[0;34m.\u001b[0m\u001b[0mas_numpy_iterator\u001b[0m\u001b[0;34m(\u001b[0m\u001b[0;34m)\u001b[0m\u001b[0;34m.\u001b[0m\u001b[0mnext\u001b[0m\u001b[0;34m(\u001b[0m\u001b[0;34m)\u001b[0m\u001b[0;34m\u001b[0m\u001b[0;34m\u001b[0m\u001b[0m\n\u001b[0m",
            "\u001b[0;31mNameError\u001b[0m: name 'images' is not defined"
          ]
        }
      ]
    },
    {
      "cell_type": "code",
      "source": [
        "#to read an image, decode it and reshape the tensor containing the pixel data:\n",
        "\n",
        "def load_image(x):\n",
        "  raw = tf.io.read_file(x)\n",
        "  img = tf.image.decode_jpeg(raw)\n",
        "\n",
        "  return img"
      ],
      "metadata": {
        "id": "XYQAWZZ2rY75"
      },
      "execution_count": null,
      "outputs": []
    },
    {
      "cell_type": "code",
      "source": [
        "images = images.map(load_image)"
      ],
      "metadata": {
        "colab": {
          "base_uri": "https://localhost:8080/",
          "height": 169
        },
        "id": "D5dO2IRrtRng",
        "outputId": "6a0bba91-3802-4b26-9aaa-5a98dbc28529"
      },
      "execution_count": null,
      "outputs": [
        {
          "output_type": "error",
          "ename": "NameError",
          "evalue": "ignored",
          "traceback": [
            "\u001b[0;31m---------------------------------------------------------------------------\u001b[0m",
            "\u001b[0;31mNameError\u001b[0m                                 Traceback (most recent call last)",
            "\u001b[0;32m<ipython-input-9-5adbc3270d17>\u001b[0m in \u001b[0;36m<module>\u001b[0;34m\u001b[0m\n\u001b[0;32m----> 1\u001b[0;31m \u001b[0mimages\u001b[0m \u001b[0;34m=\u001b[0m \u001b[0mimages\u001b[0m\u001b[0;34m.\u001b[0m\u001b[0mmap\u001b[0m\u001b[0;34m(\u001b[0m\u001b[0mload_image\u001b[0m\u001b[0;34m)\u001b[0m\u001b[0;34m\u001b[0m\u001b[0;34m\u001b[0m\u001b[0m\n\u001b[0m",
            "\u001b[0;31mNameError\u001b[0m: name 'images' is not defined"
          ]
        }
      ]
    },
    {
      "cell_type": "code",
      "source": [
        "images.as_numpy_iterator().next()\n"
      ],
      "metadata": {
        "colab": {
          "base_uri": "https://localhost:8080/",
          "height": 169
        },
        "id": "t0rIw8qfr91G",
        "outputId": "4907f528-b512-4444-97a2-b51c3c29bb47"
      },
      "execution_count": null,
      "outputs": [
        {
          "output_type": "error",
          "ename": "NameError",
          "evalue": "ignored",
          "traceback": [
            "\u001b[0;31m---------------------------------------------------------------------------\u001b[0m",
            "\u001b[0;31mNameError\u001b[0m                                 Traceback (most recent call last)",
            "\u001b[0;32m<ipython-input-10-6e48b0f12ac4>\u001b[0m in \u001b[0;36m<module>\u001b[0;34m\u001b[0m\n\u001b[0;32m----> 1\u001b[0;31m \u001b[0mimages\u001b[0m\u001b[0;34m.\u001b[0m\u001b[0mas_numpy_iterator\u001b[0m\u001b[0;34m(\u001b[0m\u001b[0;34m)\u001b[0m\u001b[0;34m.\u001b[0m\u001b[0mnext\u001b[0m\u001b[0;34m(\u001b[0m\u001b[0;34m)\u001b[0m\u001b[0;34m\u001b[0m\u001b[0;34m\u001b[0m\u001b[0m\n\u001b[0m",
            "\u001b[0;31mNameError\u001b[0m: name 'images' is not defined"
          ]
        }
      ]
    },
    {
      "cell_type": "code",
      "source": [
        "image_generator = images.batch(4).as_numpy_iterator()"
      ],
      "metadata": {
        "colab": {
          "base_uri": "https://localhost:8080/",
          "height": 169
        },
        "id": "Kpf6ISD-tcQU",
        "outputId": "2f6cbfb9-c3b7-4ee9-e316-8091f0bf047c"
      },
      "execution_count": null,
      "outputs": [
        {
          "output_type": "error",
          "ename": "NameError",
          "evalue": "ignored",
          "traceback": [
            "\u001b[0;31m---------------------------------------------------------------------------\u001b[0m",
            "\u001b[0;31mNameError\u001b[0m                                 Traceback (most recent call last)",
            "\u001b[0;32m<ipython-input-11-dafd2249650b>\u001b[0m in \u001b[0;36m<module>\u001b[0;34m\u001b[0m\n\u001b[0;32m----> 1\u001b[0;31m \u001b[0mimage_generator\u001b[0m \u001b[0;34m=\u001b[0m \u001b[0mimages\u001b[0m\u001b[0;34m.\u001b[0m\u001b[0mbatch\u001b[0m\u001b[0;34m(\u001b[0m\u001b[0;36m4\u001b[0m\u001b[0;34m)\u001b[0m\u001b[0;34m.\u001b[0m\u001b[0mas_numpy_iterator\u001b[0m\u001b[0;34m(\u001b[0m\u001b[0;34m)\u001b[0m\u001b[0;34m\u001b[0m\u001b[0;34m\u001b[0m\u001b[0m\n\u001b[0m",
            "\u001b[0;31mNameError\u001b[0m: name 'images' is not defined"
          ]
        }
      ]
    },
    {
      "cell_type": "code",
      "source": [
        "plt_img = image_generator.next()"
      ],
      "metadata": {
        "id": "Q1I4XleuuHtp"
      },
      "execution_count": null,
      "outputs": []
    },
    {
      "cell_type": "code",
      "source": [
        "fig, ax = plt.subplots(ncols = 4, figsize=(20,20))\n",
        "for idx, image in enumerate(plt_img):\n",
        "  ax[idx].imshow(image)\n",
        "plt.show()"
      ],
      "metadata": {
        "id": "umG1IgmQu5bQ"
      },
      "execution_count": null,
      "outputs": []
    },
    {
      "cell_type": "code",
      "source": [
        "from google.colab import drive\n",
        "drive.mount('/content/drive')"
      ],
      "metadata": {
        "colab": {
          "base_uri": "https://localhost:8080/"
        },
        "id": "Jj7tVcZQT__e",
        "outputId": "33f60e09-06a4-49d0-af1f-057575954c5f"
      },
      "execution_count": null,
      "outputs": [
        {
          "output_type": "stream",
          "name": "stdout",
          "text": [
            "Drive already mounted at /content/drive; to attempt to forcibly remount, call drive.mount(\"/content/drive\", force_remount=True).\n"
          ]
        }
      ]
    },
    {
      "cell_type": "code",
      "source": [
        "!ls \"/content/drive/My Drive\"\n"
      ],
      "metadata": {
        "colab": {
          "base_uri": "https://localhost:8080/"
        },
        "id": "lrAZWrmPUOWZ",
        "outputId": "c6a5b7de-0a4e-4922-9a16-408020448574"
      },
      "execution_count": null,
      "outputs": [
        {
          "output_type": "stream",
          "name": "stdout",
          "text": [
            "'Başlıksız e-tablo.gsheet'\n",
            "'CHARACTERIZATION OF IPN BASED LEVAN.docx'\n",
            "'CHARACTERIZATION OF IPN BASED LEVAN ETO.docx'\n",
            "'CIRRICULUM VITAE.docx'\n",
            "'Colab Notebooks'\n",
            " data\n",
            "'revised manuscript compressed_SG.docx'\n",
            "'revised manuscript.docx'\n",
            "'Saglam et al manuscript ETO.docx'\n",
            "'WhatsApp Image 2022-06-27 at 18.11.54.jpeg'\n"
          ]
        }
      ]
    },
    {
      "cell_type": "code",
      "source": [],
      "metadata": {
        "id": "V3pmBk6hUSz9"
      },
      "execution_count": null,
      "outputs": []
    },
    {
      "cell_type": "code",
      "source": [
        "#moving matching labels:\n",
        "\n",
        "for folder in ['train', 'test', 'valid']:\n",
        "  for file in os.listdir(os.path.join('drive','MyDrive','data', folder, 'image')):\n",
        "    filename = file.split('.')[0]+'.json'\n",
        "    existing_filepath = os.path.join('drive','MyDrive','data', 'label', filename)\n",
        "    if os.path.exists(existing_filepath):\n",
        "      new_filepath = os.path.join('drive','MyDrive','data', folder, 'label', filename)\n",
        "      os.replace(existing_filepath, new_filepath)"
      ],
      "metadata": {
        "id": "Z2Yqw16kR6_o"
      },
      "execution_count": null,
      "outputs": []
    },
    {
      "cell_type": "markdown",
      "source": [
        "Apply Image Augmentation on Images and Labels"
      ],
      "metadata": {
        "id": "fkkgeDHTQYfJ"
      }
    },
    {
      "cell_type": "code",
      "source": [
        "import albumentations as alb"
      ],
      "metadata": {
        "id": "BnThR-dUAt9t"
      },
      "execution_count": null,
      "outputs": []
    },
    {
      "cell_type": "markdown",
      "source": [
        "Augmentation Pipeline:"
      ],
      "metadata": {
        "id": "EwNDexWIQjLO"
      }
    },
    {
      "cell_type": "code",
      "source": [
        "def visualize(image):\n",
        "    plt.figure(figsize=(10, 10))\n",
        "    plt.axis('off')\n",
        "    plt.imshow(image)\n",
        "\n",
        "augmentor = alb.Compose([alb.HorizontalFlip(p=0.5),\n",
        "             alb.RandomBrightnessContrast(p=0.3),\n",
        "             alb.RandomCrop(width=700, height=700)],\n",
        "             bbox_params=alb.BboxParams(format='albumentations', label_fields = ['class_labels']))\n"
      ],
      "metadata": {
        "id": "K2-GzCx1RL3y"
      },
      "execution_count": null,
      "outputs": []
    },
    {
      "cell_type": "markdown",
      "source": [
        "Test an Image & Annotation"
      ],
      "metadata": {
        "id": "v6i7_-pKTBlQ"
      }
    },
    {
      "cell_type": "code",
      "source": [
        "img = cv2.imread(os.path.join('drive','MyDrive','data','train','image','27f557a6-850c-11ed-95e4-1e00f1349d90.jpg'))\n",
        "\n",
        "with open(os.path.join('drive','MyDrive','data','train','label','27f557a6-850c-11ed-95e4-1e00f1349d90.json'), 'r') as f:\n",
        "  label = json.load(f)\n"
      ],
      "metadata": {
        "id": "HNhR9EjHS8IS"
      },
      "execution_count": null,
      "outputs": []
    },
    {
      "cell_type": "code",
      "source": [
        "type(img)"
      ],
      "metadata": {
        "colab": {
          "base_uri": "https://localhost:8080/"
        },
        "id": "UEKGo1h32ouL",
        "outputId": "2fced4dc-e1e4-408a-e2e4-d9430e5bb4a7"
      },
      "execution_count": null,
      "outputs": [
        {
          "output_type": "execute_result",
          "data": {
            "text/plain": [
              "numpy.ndarray"
            ]
          },
          "metadata": {},
          "execution_count": 8
        }
      ]
    },
    {
      "cell_type": "code",
      "source": [
        "img"
      ],
      "metadata": {
        "colab": {
          "base_uri": "https://localhost:8080/"
        },
        "id": "RLSHSQdQR0KY",
        "outputId": "01c2a035-2724-4d22-9cf3-31dd9dd03a3d"
      },
      "execution_count": null,
      "outputs": [
        {
          "output_type": "execute_result",
          "data": {
            "text/plain": [
              "array([[ 76,  87, 101],\n",
              "       [ 73,  84,  98],\n",
              "       [ 90,  99, 113],\n",
              "       ...,\n",
              "       [125, 131, 136],\n",
              "       [129, 135, 140],\n",
              "       [122, 128, 133]], dtype=uint8)"
            ]
          },
          "metadata": {},
          "execution_count": 11
        }
      ]
    },
    {
      "cell_type": "code",
      "source": [
        "filee = '27f557a6-850c-11ed-95e4-1e00f1349d90.jpg'\n",
        "new_file = (filee.split('.'))[0]\n",
        "new_file\n",
        "name = f'{new_file}.json'\n",
        "name"
      ],
      "metadata": {
        "colab": {
          "base_uri": "https://localhost:8080/",
          "height": 35
        },
        "id": "4JMO-km0XhrM",
        "outputId": "e3e0fb44-1fce-4ed6-c49c-4e9e574d40d2"
      },
      "execution_count": null,
      "outputs": [
        {
          "output_type": "execute_result",
          "data": {
            "text/plain": [
              "'27f557a6-850c-11ed-95e4-1e00f1349d90.json'"
            ],
            "application/vnd.google.colaboratory.intrinsic+json": {
              "type": "string"
            }
          },
          "metadata": {},
          "execution_count": 62
        }
      ]
    },
    {
      "cell_type": "code",
      "source": [
        "label['shapes'][0]['points']"
      ],
      "metadata": {
        "colab": {
          "base_uri": "https://localhost:8080/"
        },
        "id": "M9cCvVnwm4jI",
        "outputId": "3c6b88a0-94ed-4771-c37a-d33b27598962"
      },
      "execution_count": null,
      "outputs": [
        {
          "output_type": "execute_result",
          "data": {
            "text/plain": [
              "[[528.3720930232558, 153.60465116279073],\n",
              " [787.6744186046512, 496.62790697674416]]"
            ]
          },
          "metadata": {},
          "execution_count": 8
        }
      ]
    },
    {
      "cell_type": "markdown",
      "source": [
        "take the coordinates as a list from the dict 'label'"
      ],
      "metadata": {
        "id": "O9pqcRk8nnyO"
      }
    },
    {
      "cell_type": "code",
      "source": [
        "coords = [0,0,0,0]\n",
        "coords[0] = label['shapes'][0]['points'][0][0]\n",
        "coords[1] = label['shapes'][0]['points'][0][1]\n",
        "coords[2] = label['shapes'][0]['points'][1][0]\n",
        "coords[3] = label['shapes'][0]['points'][1][1]"
      ],
      "metadata": {
        "id": "eVKYxwLLlqWM"
      },
      "execution_count": null,
      "outputs": []
    },
    {
      "cell_type": "code",
      "source": [
        "coords"
      ],
      "metadata": {
        "colab": {
          "base_uri": "https://localhost:8080/"
        },
        "id": "9sxBZ0ClnkJA",
        "outputId": "9f912d73-f6c3-4ad8-ffef-b3dd218e2533"
      },
      "execution_count": null,
      "outputs": [
        {
          "output_type": "execute_result",
          "data": {
            "text/plain": [
              "[528.3720930232558, 153.60465116279073, 787.6744186046512, 496.62790697674416]"
            ]
          },
          "metadata": {},
          "execution_count": 11
        }
      ]
    },
    {
      "cell_type": "markdown",
      "source": [
        "normalize the coordinates by dividing x with width and y with height of the image"
      ],
      "metadata": {
        "id": "85EzND7VoBpn"
      }
    },
    {
      "cell_type": "code",
      "source": [
        "type(img)"
      ],
      "metadata": {
        "colab": {
          "base_uri": "https://localhost:8080/"
        },
        "id": "Mxz5LwfesWbj",
        "outputId": "58ce7256-1147-4224-aa32-1da6b6b2a660"
      },
      "execution_count": null,
      "outputs": [
        {
          "output_type": "execute_result",
          "data": {
            "text/plain": [
              "(720, 1280, 3)"
            ]
          },
          "metadata": {},
          "execution_count": 93
        }
      ]
    },
    {
      "cell_type": "code",
      "source": [
        "coords = list(np.divide( coords, [1280,720,1280,720]))"
      ],
      "metadata": {
        "id": "RKziO3F4n-Nv"
      },
      "execution_count": null,
      "outputs": []
    },
    {
      "cell_type": "code",
      "source": [
        "coords"
      ],
      "metadata": {
        "colab": {
          "base_uri": "https://localhost:8080/"
        },
        "id": "b7UrQbN8oUnn",
        "outputId": "91404d67-8124-4f62-f897-7f5ca1b2f6b7"
      },
      "execution_count": null,
      "outputs": [
        {
          "output_type": "execute_result",
          "data": {
            "text/plain": [
              "[0.4127906976744186,\n",
              " 0.21333979328165378,\n",
              " 0.6153706395348838,\n",
              " 0.6897609819121446]"
            ]
          },
          "metadata": {},
          "execution_count": 13
        }
      ]
    },
    {
      "cell_type": "code",
      "source": [
        "type(coords)"
      ],
      "metadata": {
        "colab": {
          "base_uri": "https://localhost:8080/"
        },
        "id": "-jRc-vgkrs74",
        "outputId": "7f44f822-772c-4c37-fdf9-87fca2039fbc"
      },
      "execution_count": null,
      "outputs": [
        {
          "output_type": "execute_result",
          "data": {
            "text/plain": [
              "list"
            ]
          },
          "metadata": {},
          "execution_count": 14
        }
      ]
    },
    {
      "cell_type": "markdown",
      "source": [
        "try augmentation pipeline"
      ],
      "metadata": {
        "id": "HmToGg6noe_M"
      }
    },
    {
      "cell_type": "code",
      "source": [
        "type(img)"
      ],
      "metadata": {
        "colab": {
          "base_uri": "https://localhost:8080/"
        },
        "id": "KxmoJEkRp3Wq",
        "outputId": "f01f8091-6472-4e71-9b46-892386b14cf5"
      },
      "execution_count": null,
      "outputs": [
        {
          "output_type": "execute_result",
          "data": {
            "text/plain": [
              "numpy.ndarray"
            ]
          },
          "metadata": {},
          "execution_count": 97
        }
      ]
    },
    {
      "cell_type": "code",
      "source": [
        "aug = augmentor(image = img, bboxes=[coords], class_labels = ['face'])\n",
        "cv2.rectangle(aug['image'],\n",
        "              tuple(np.multiply(aug['bboxes'][0][:2], [700,700]).astype(int)),\n",
        "              tuple(np.multiply(aug['bboxes'][0][2:], [700,700]).astype(int)),\n",
        "              (0,255,0),2)"
      ],
      "metadata": {
        "colab": {
          "base_uri": "https://localhost:8080/",
          "height": 240
        },
        "id": "JOySNXNmof0V",
        "outputId": "1186b96b-354d-46fd-b9e9-f33163e797d6"
      },
      "execution_count": null,
      "outputs": [
        {
          "output_type": "error",
          "ename": "NameError",
          "evalue": "ignored",
          "traceback": [
            "\u001b[0;31m---------------------------------------------------------------------------\u001b[0m",
            "\u001b[0;31mNameError\u001b[0m                                 Traceback (most recent call last)",
            "\u001b[0;32m<ipython-input-12-04d4456c8b9d>\u001b[0m in \u001b[0;36m<module>\u001b[0;34m\u001b[0m\n\u001b[0;32m----> 1\u001b[0;31m \u001b[0maug\u001b[0m \u001b[0;34m=\u001b[0m \u001b[0maugmentor\u001b[0m\u001b[0;34m(\u001b[0m\u001b[0mimage\u001b[0m \u001b[0;34m=\u001b[0m \u001b[0mimg\u001b[0m\u001b[0;34m,\u001b[0m \u001b[0mbboxes\u001b[0m\u001b[0;34m=\u001b[0m\u001b[0;34m[\u001b[0m\u001b[0mcoords\u001b[0m\u001b[0;34m]\u001b[0m\u001b[0;34m,\u001b[0m \u001b[0mclass_labels\u001b[0m \u001b[0;34m=\u001b[0m \u001b[0;34m[\u001b[0m\u001b[0;34m'face'\u001b[0m\u001b[0;34m]\u001b[0m\u001b[0;34m)\u001b[0m\u001b[0;34m\u001b[0m\u001b[0;34m\u001b[0m\u001b[0m\n\u001b[0m\u001b[1;32m      2\u001b[0m cv2.rectangle(aug['image'],\n\u001b[1;32m      3\u001b[0m               \u001b[0mtuple\u001b[0m\u001b[0;34m(\u001b[0m\u001b[0mnp\u001b[0m\u001b[0;34m.\u001b[0m\u001b[0mmultiply\u001b[0m\u001b[0;34m(\u001b[0m\u001b[0maug\u001b[0m\u001b[0;34m[\u001b[0m\u001b[0;34m'bboxes'\u001b[0m\u001b[0;34m]\u001b[0m\u001b[0;34m[\u001b[0m\u001b[0;36m0\u001b[0m\u001b[0;34m]\u001b[0m\u001b[0;34m[\u001b[0m\u001b[0;34m:\u001b[0m\u001b[0;36m2\u001b[0m\u001b[0;34m]\u001b[0m\u001b[0;34m,\u001b[0m \u001b[0;34m[\u001b[0m\u001b[0;36m700\u001b[0m\u001b[0;34m,\u001b[0m\u001b[0;36m700\u001b[0m\u001b[0;34m]\u001b[0m\u001b[0;34m)\u001b[0m\u001b[0;34m.\u001b[0m\u001b[0mastype\u001b[0m\u001b[0;34m(\u001b[0m\u001b[0mint\u001b[0m\u001b[0;34m)\u001b[0m\u001b[0;34m)\u001b[0m\u001b[0;34m,\u001b[0m\u001b[0;34m\u001b[0m\u001b[0;34m\u001b[0m\u001b[0m\n\u001b[1;32m      4\u001b[0m               \u001b[0mtuple\u001b[0m\u001b[0;34m(\u001b[0m\u001b[0mnp\u001b[0m\u001b[0;34m.\u001b[0m\u001b[0mmultiply\u001b[0m\u001b[0;34m(\u001b[0m\u001b[0maug\u001b[0m\u001b[0;34m[\u001b[0m\u001b[0;34m'bboxes'\u001b[0m\u001b[0;34m]\u001b[0m\u001b[0;34m[\u001b[0m\u001b[0;36m0\u001b[0m\u001b[0;34m]\u001b[0m\u001b[0;34m[\u001b[0m\u001b[0;36m2\u001b[0m\u001b[0;34m:\u001b[0m\u001b[0;34m]\u001b[0m\u001b[0;34m,\u001b[0m \u001b[0;34m[\u001b[0m\u001b[0;36m700\u001b[0m\u001b[0;34m,\u001b[0m\u001b[0;36m700\u001b[0m\u001b[0;34m]\u001b[0m\u001b[0;34m)\u001b[0m\u001b[0;34m.\u001b[0m\u001b[0mastype\u001b[0m\u001b[0;34m(\u001b[0m\u001b[0mint\u001b[0m\u001b[0;34m)\u001b[0m\u001b[0;34m)\u001b[0m\u001b[0;34m,\u001b[0m\u001b[0;34m\u001b[0m\u001b[0;34m\u001b[0m\u001b[0m\n\u001b[1;32m      5\u001b[0m               (0,255,0),2)\n",
            "\u001b[0;31mNameError\u001b[0m: name 'coords' is not defined"
          ]
        }
      ]
    },
    {
      "cell_type": "markdown",
      "source": [
        "Build an Augmentation Pipeline for all images"
      ],
      "metadata": {
        "id": "MRPR6gO9vLED"
      }
    },
    {
      "cell_type": "code",
      "source": [
        "labels = []\n",
        "type(labels)"
      ],
      "metadata": {
        "colab": {
          "base_uri": "https://localhost:8080/"
        },
        "id": "n_oShWvUIcmS",
        "outputId": "04b94b7b-c9aa-4dd2-b41a-8702f69d3d7f"
      },
      "execution_count": null,
      "outputs": [
        {
          "output_type": "execute_result",
          "data": {
            "text/plain": [
              "list"
            ]
          },
          "metadata": {},
          "execution_count": 30
        }
      ]
    },
    {
      "cell_type": "code",
      "source": [
        "filee = '27f557a6-850c-11ed-95e4-1e00f1349d90.jpg'\n",
        "new_file = (filee.split('.'))[0]\n",
        "new_file\n",
        "name = f'{new_file}.json'\n",
        "name"
      ],
      "metadata": {
        "id": "Qsktd7AbYkE_"
      },
      "execution_count": null,
      "outputs": []
    },
    {
      "cell_type": "code",
      "source": [
        "\n",
        "\n",
        "for folder in ['train', 'test', 'valid']:\n",
        "  for files in os.listdir(os.path.join('drive','MyDrive','data', folder, 'image')):\n",
        "    img = cv2.imread(os.path.join('drive','MyDrive','data', folder,'image', files))\n",
        "    label_path = os.path.join('drive','MyDrive','data', folder,'label', f'{(files.split(\".\"))[0]}.json')\n",
        "    coords = [0,0,0.000001,0.000001]\n",
        "    if os.path.exists(label_path):\n",
        "      with open(label_path, 'r') as f:\n",
        "        label = json.load(f)\n",
        "      coords[0] = label['shapes'][0]['points'][0][0]\n",
        "      coords[1] = label['shapes'][0]['points'][0][1]\n",
        "      coords[2] = label['shapes'][0]['points'][1][0]\n",
        "      coords[3] = label['shapes'][0]['points'][1][1]\n",
        "      coords = list(np.divide(coords, [1280, 720, 1280, 720]))\n",
        "\n",
        "    try:\n",
        "      for x in range(60):\n",
        "        augmented = augmentor(image = img, bboxes = [coords], class_labels = ['face'])\n",
        "        cv2.imwrite(os.path.join('drive','MyDrive','data','aug_data',folder,'image', f'{(files.split(\".\"))[0]}_{x}.jpg'), augmented['image'])\n",
        "        annotation = {}\n",
        "        annotation['image'] = files\n",
        "        if os.path.exists(label_path):\n",
        "          if len(augmented['bboxes']) == 0:\n",
        "            annotation['bbox'] = [0,0,0,0]\n",
        "            annotation['class'] = 0\n",
        "          else:\n",
        "            annotation['bbox'] = augmented['bboxes'][0]\n",
        "            annotation['class'] = 1\n",
        "        else:\n",
        "          annotation['bbox'] = [0,0,0,0]\n",
        "          annotation['class'] = 0\n",
        "\n",
        "        with open(os.path.join('drive','MyDrive','data','aug_data',folder,'label', f'{(files.split(\".\"))[0]}_{x}.json'), 'w') as f:\n",
        "          json.dump(annotation, f)\n",
        "    except Exception as e:\n",
        "      print(e)\n",
        "\n",
        "\n",
        "\n",
        ""
      ],
      "metadata": {
        "id": "5vlwqR_UtpKZ"
      },
      "execution_count": null,
      "outputs": []
    },
    {
      "cell_type": "markdown",
      "source": [
        "Define a image resizing funtion for your images"
      ],
      "metadata": {
        "id": "sjTZawAk9QdP"
      }
    },
    {
      "cell_type": "code",
      "source": [
        "  def normalize_image(image):\n",
        "    return tf.image.resize(image, (120,120))\n"
      ],
      "metadata": {
        "id": "D2BrsG4lx2F3"
      },
      "execution_count": null,
      "outputs": []
    },
    {
      "cell_type": "code",
      "source": [
        "#to read an image, decode it and reshape the tensor containing the pixel data:\n",
        "\n",
        "def load_image(x):\n",
        "  raw = tf.io.read_file(x)\n",
        "  img = tf.image.decode_jpeg(raw)\n",
        "\n",
        "  return img"
      ],
      "metadata": {
        "id": "g8gDtASAhQ51"
      },
      "execution_count": null,
      "outputs": []
    },
    {
      "cell_type": "markdown",
      "source": [
        "# Load the files,\n",
        "#turn them into TensorSliceDataset\n",
        "#and normalize the image size and color::"
      ],
      "metadata": {
        "id": "LJzs_-iD9Vpk"
      }
    },
    {
      "cell_type": "code",
      "source": [
        "\n",
        "\n",
        "\n",
        "try:\n",
        "  train_images = tf.data.Dataset.list_files(\"/content/drive/MyDrive/data/aug_data/train/image/*.jpg\", shuffle = False)\n",
        "  train_images = train_images.map(load_image)\n",
        "  train_images = train_images.map(normalize_image)\n",
        "  train_images = train_images.map(lambda x: x/255)\n",
        "\n",
        "except Exception as e :\n",
        "  print(e)\n",
        "\n",
        "\n",
        "\n"
      ],
      "metadata": {
        "id": "NrBtWXWDx2yw"
      },
      "execution_count": null,
      "outputs": []
    },
    {
      "cell_type": "code",
      "source": [
        "\n",
        "try:\n",
        "  test_images = tf.data.Dataset.list_files(\"/content/drive/MyDrive/data/aug_data/test/image/*.jpg\", shuffle = False)\n",
        "  test_images = test_images.map(load_image)\n",
        "  test_images = test_images.map(normalize_image)\n",
        "  test_images = test_images.map(lambda x: x/255)\n",
        "\n",
        "except Exception as e :\n",
        "  print(e)\n",
        "\n"
      ],
      "metadata": {
        "id": "eeHYVCALCUUW"
      },
      "execution_count": null,
      "outputs": []
    },
    {
      "cell_type": "code",
      "source": [
        "\n",
        "try:\n",
        "  valid_images = tf.data.Dataset.list_files(\"/content/drive/MyDrive/data/aug_data/valid/image/*.jpg\", shuffle = False)\n",
        "  valid_images = valid_images.map(load_image)\n",
        "  valid_images = valid_images.map(normalize_image)\n",
        "  valid_images = valid_images.map(lambda x: x/255)\n",
        "\n",
        "except Exception as e :\n",
        "  print(e)"
      ],
      "metadata": {
        "id": "p2jf4SQeGDII"
      },
      "execution_count": null,
      "outputs": []
    },
    {
      "cell_type": "code",
      "source": [
        "len(train_images),len(valid_images),len(test_images)"
      ],
      "metadata": {
        "colab": {
          "base_uri": "https://localhost:8080/"
        },
        "id": "1LCjzb_QnvmN",
        "outputId": "dcd29e7f-871e-430d-a041-9f959ea1029a"
      },
      "execution_count": null,
      "outputs": [
        {
          "output_type": "execute_result",
          "data": {
            "text/plain": [
              "(3780, 780, 840)"
            ]
          },
          "metadata": {},
          "execution_count": 9
        }
      ]
    },
    {
      "cell_type": "markdown",
      "source": [
        "# Load the labels, return the class and bboxes data :"
      ],
      "metadata": {
        "id": "jWS-X-D4K5p8"
      }
    },
    {
      "cell_type": "code",
      "source": [
        "\n",
        "def read_label(label_path):\n",
        "  with open(label_path.numpy(), 'r', encoding= 'utf-8') as f:\n",
        "    label = json.load(f)\n",
        "\n",
        "  return [label['class']], label['bbox']\n",
        ""
      ],
      "metadata": {
        "id": "WDofT3djK5Fg"
      },
      "execution_count": null,
      "outputs": []
    },
    {
      "cell_type": "code",
      "source": [
        "read_label(\"/content/drive/MyDrive/data/aug_data/train/label/27f557a6-850c-11ed-95e4-1e00f1349d90_0.json\")\n"
      ],
      "metadata": {
        "colab": {
          "base_uri": "https://localhost:8080/"
        },
        "id": "uGsjsUmV1ne0",
        "outputId": "15cdc421-7a0b-465f-f464-6e7920c16e54"
      },
      "execution_count": null,
      "outputs": [
        {
          "output_type": "execute_result",
          "data": {
            "text/plain": [
              "([1],\n",
              " [0.18053156146179405,\n",
              "  0.2137209302325582,\n",
              "  0.5509634551495017,\n",
              "  0.7037541528239202])"
            ]
          },
          "metadata": {},
          "execution_count": 20
        }
      ]
    },
    {
      "cell_type": "code",
      "source": [
        "train_labels = tf.data.Dataset.list_files(\"/content/drive/MyDrive/data/aug_data/train/label/*.json\", shuffle = False)\n",
        "train_labels = train_labels.map(lambda x: tf.py_function(func = read_label, inp = [x], Tout = [tf.uint8, tf.float16]))\n",
        "\n",
        "valid_labels = tf.data.Dataset.list_files(\"/content/drive/MyDrive/data/aug_data/valid/label/*.json\", shuffle = False)\n",
        "valid_labels = valid_labels.map(lambda x: tf.py_function(func = read_label, inp = [x], Tout = [tf.uint8, tf.float16]))\n",
        "\n",
        "test_labels = tf.data.Dataset.list_files(\"/content/drive/MyDrive/data/aug_data/test/label/*.json\", shuffle = False)\n",
        "test_labels = test_labels.map(lambda x: tf.py_function(func = read_label, inp = [x], Tout = [tf.uint8, tf.float16]))\n"
      ],
      "metadata": {
        "id": "Sp6jpy674aaL"
      },
      "execution_count": null,
      "outputs": []
    },
    {
      "cell_type": "code",
      "source": [
        "test_labels.as_numpy_iterator().next()"
      ],
      "metadata": {
        "colab": {
          "base_uri": "https://localhost:8080/"
        },
        "id": "YvxJO4Zz5XMa",
        "outputId": "74fdbaf6-c4f0-45a5-a154-554b32025cc7"
      },
      "execution_count": null,
      "outputs": [
        {
          "output_type": "execute_result",
          "data": {
            "text/plain": [
              "(array([1], dtype=uint8),\n",
              " array([0.5273, 0.4678, 0.7056, 0.7466], dtype=float16))"
            ]
          },
          "metadata": {},
          "execution_count": 34
        }
      ]
    },
    {
      "cell_type": "code",
      "source": [
        "len(train_labels),len(valid_labels),len(test_labels)"
      ],
      "metadata": {
        "colab": {
          "base_uri": "https://localhost:8080/"
        },
        "id": "ScRxNrSApX8_",
        "outputId": "d69d066f-d51e-4607-d02b-679fec63105e"
      },
      "execution_count": null,
      "outputs": [
        {
          "output_type": "execute_result",
          "data": {
            "text/plain": [
              "(3780, 780, 840)"
            ]
          },
          "metadata": {},
          "execution_count": 13
        }
      ]
    },
    {
      "cell_type": "markdown",
      "source": [
        "COmbine Label and Image Samples"
      ],
      "metadata": {
        "id": "6V4hP4-wnZs6"
      }
    },
    {
      "cell_type": "code",
      "source": [
        "train = tf.data.Dataset.zip((train_images, train_labels))\n",
        "train = train.shuffle(4000)\n",
        "train = train.batch(8)\n",
        "train = train.prefetch(4)\n",
        "\n",
        "test = tf.data.Dataset.zip((test_images, test_labels))\n",
        "test = test.shuffle(900)\n",
        "test = test.batch(8)\n",
        "test = test.prefetch(4)\n",
        "\n",
        "valid = tf.data.Dataset.zip((valid_images, valid_labels))\n",
        "valid = valid.shuffle(800)\n",
        "valid = valid.batch(8)\n",
        "valid = valid.prefetch(4)"
      ],
      "metadata": {
        "id": "eRD4pNwE5dFT"
      },
      "execution_count": null,
      "outputs": []
    },
    {
      "cell_type": "code",
      "source": [
        "data_samples = train.as_numpy_iterator()\n",
        "res = data_samples.next()\n",
        "\n",
        "fig, ax =plt.subplots(ncols = 4, figsize=(20,20))\n",
        "for idx in range(4):\n",
        "  sample_image = res[0][idx]\n",
        "  sample_coords = res[1][1][idx]\n",
        "\n",
        "  cv2.rectangle(sample_image,\n",
        "                tuple(np.multiply(sample_coords[:2], [120,120]).astype(int)),\n",
        "                tuple(np.multiply(sample_coords[2:],[120,120]).astype(int)),\n",
        "                (255,0,0),2)\n",
        "\n",
        "  ax[idx].imshow(sample_image)"
      ],
      "metadata": {
        "id": "4MkB909vu_Df"
      },
      "execution_count": null,
      "outputs": []
    },
    {
      "cell_type": "markdown",
      "source": [
        "#Build Deep Learning Model\n",
        "With the combination of both Classification and Regression"
      ],
      "metadata": {
        "id": "FzFEj86u2wx_"
      }
    },
    {
      "cell_type": "code",
      "source": [
        "from tensorflow.keras.models import Model\n",
        "from tensorflow.keras.layers import Input, Conv2D, Dense, GlobalMaxPooling2D\n",
        "from tensorflow.keras.applications import VGG16"
      ],
      "metadata": {
        "id": "Wy5jD9SSzlWx"
      },
      "execution_count": null,
      "outputs": []
    },
    {
      "cell_type": "code",
      "source": [
        "vgg = VGG16(include_top = False)"
      ],
      "metadata": {
        "id": "PwdhIX9y3TxA"
      },
      "execution_count": null,
      "outputs": []
    },
    {
      "cell_type": "markdown",
      "source": [
        "Our CNN"
      ],
      "metadata": {
        "id": "M6eppoSC8zOD"
      }
    },
    {
      "cell_type": "code",
      "source": [
        "def build_model():\n",
        "  input_layer = Input(shape=(120,120,3))\n",
        "  vgg = VGG16(include_top = False)(input_layer)\n",
        "\n",
        "  #Classification Model:\n",
        "  f1 = GlobalMaxPooling2D()(vgg)\n",
        "  class1 = Dense(2048, activation= 'relu')(f1)\n",
        "  class2 = Dense(1, activation = 'sigmoid')(class1)\n",
        "\n",
        "  #Regression Model:\n",
        "  f2 = GlobalMaxPooling2D()(vgg)\n",
        "  regress1 = Dense(2048, activation = 'relu')(f2)\n",
        "  regress2 = Dense(4, activation = 'sigmoid')(regress1)\n",
        "\n",
        "  facetracker = Model(inputs= input_layer, outputs = [class2, regress2])\n",
        "  return facetracker"
      ],
      "metadata": {
        "id": "OWdnPrcJ8yhW"
      },
      "execution_count": null,
      "outputs": []
    },
    {
      "cell_type": "code",
      "source": [
        "facetracker = build_model()\n",
        "facetracker.summary()"
      ],
      "metadata": {
        "colab": {
          "base_uri": "https://localhost:8080/"
        },
        "id": "XXZaSor63YYv",
        "outputId": "d41acc71-97fd-41fb-961c-ff284a6b2423"
      },
      "execution_count": null,
      "outputs": [
        {
          "output_type": "stream",
          "name": "stdout",
          "text": [
            "Model: \"model\"\n",
            "__________________________________________________________________________________________________\n",
            " Layer (type)                   Output Shape         Param #     Connected to                     \n",
            "==================================================================================================\n",
            " input_2 (InputLayer)           [(None, 120, 120, 3  0           []                               \n",
            "                                )]                                                                \n",
            "                                                                                                  \n",
            " vgg16 (Functional)             (None, None, None,   14714688    ['input_2[0][0]']                \n",
            "                                512)                                                              \n",
            "                                                                                                  \n",
            " global_max_pooling2d (GlobalMa  (None, 512)         0           ['vgg16[0][0]']                  \n",
            " xPooling2D)                                                                                      \n",
            "                                                                                                  \n",
            " global_max_pooling2d_1 (Global  (None, 512)         0           ['vgg16[0][0]']                  \n",
            " MaxPooling2D)                                                                                    \n",
            "                                                                                                  \n",
            " dense (Dense)                  (None, 2048)         1050624     ['global_max_pooling2d[0][0]']   \n",
            "                                                                                                  \n",
            " dense_2 (Dense)                (None, 2048)         1050624     ['global_max_pooling2d_1[0][0]'] \n",
            "                                                                                                  \n",
            " dense_1 (Dense)                (None, 1)            2049        ['dense[0][0]']                  \n",
            "                                                                                                  \n",
            " dense_3 (Dense)                (None, 4)            8196        ['dense_2[0][0]']                \n",
            "                                                                                                  \n",
            "==================================================================================================\n",
            "Total params: 16,826,181\n",
            "Trainable params: 16,826,181\n",
            "Non-trainable params: 0\n",
            "__________________________________________________________________________________________________\n"
          ]
        }
      ]
    },
    {
      "cell_type": "code",
      "source": [
        "train.as_numpy_iterator().next()[1]"
      ],
      "metadata": {
        "colab": {
          "base_uri": "https://localhost:8080/"
        },
        "id": "gmqz2w0UEFJs",
        "outputId": "4f6956af-6f56-43cd-bd38-b37e5b2bfc82"
      },
      "execution_count": null,
      "outputs": [
        {
          "output_type": "execute_result",
          "data": {
            "text/plain": [
              "(array([[[[0.68858933, 0.60231483, 0.5199619 ],\n",
              "          [0.6901961 , 0.6039216 , 0.5137255 ],\n",
              "          [0.6901961 , 0.6039216 , 0.52156866],\n",
              "          ...,\n",
              "          [0.74967283, 0.67908454, 0.5849669 ],\n",
              "          [0.7480392 , 0.6696078 , 0.5754902 ],\n",
              "          [0.7543027 , 0.6758713 , 0.5817537 ]],\n",
              " \n",
              "         [[0.691585  , 0.6053105 , 0.52295756],\n",
              "          [0.68921566, 0.60294116, 0.5127451 ],\n",
              "          [0.6928105 , 0.606536  , 0.52418303],\n",
              "          ...,\n",
              "          [0.7677292 , 0.68929785, 0.5951802 ],\n",
              "          [0.7558824 , 0.67745095, 0.5833333 ],\n",
              "          [0.7555554 , 0.677124  , 0.5830064 ]],\n",
              " \n",
              "         [[0.7019608 , 0.6156863 , 0.53333336],\n",
              "          [0.6901961 , 0.6039216 , 0.5137255 ],\n",
              "          [0.69773966, 0.61146516, 0.5291122 ],\n",
              "          ...,\n",
              "          [0.7428373 , 0.66440594, 0.57028824],\n",
              "          [0.74991834, 0.671487  , 0.5773693 ],\n",
              "          [0.7441175 , 0.66568613, 0.5715685 ]],\n",
              " \n",
              "         ...,\n",
              " \n",
              "         [[0.37154156, 0.34409058, 0.32056117],\n",
              "          [0.2659306 , 0.23847961, 0.2149502 ],\n",
              "          [0.27919292, 0.25174195, 0.2203694 ],\n",
              "          ...,\n",
              "          [0.44608068, 0.39028022, 0.35528558],\n",
              "          [0.70441234, 0.6401968 , 0.60138977],\n",
              "          [0.6023142 , 0.50838715, 0.4609471 ]],\n",
              " \n",
              "         [[0.39240196, 0.36495098, 0.33357844],\n",
              "          [0.30882353, 0.2735294 , 0.25392157],\n",
              "          [0.19934636, 0.16797382, 0.16013068],\n",
              "          ...,\n",
              "          [0.7282673 , 0.6184634 , 0.6027771 ],\n",
              "          [0.61691177, 0.54093134, 0.52254903],\n",
              "          [0.596078  , 0.51135576, 0.4974668 ]],\n",
              " \n",
              "         [[0.4332782 , 0.40582722, 0.37445468],\n",
              "          [0.38194543, 0.34665132, 0.31920034],\n",
              "          [0.24351807, 0.20430239, 0.19645925],\n",
              "          ...,\n",
              "          [0.9519327 , 0.8421288 , 0.83793503],\n",
              "          [0.43341485, 0.368219  , 0.3926473 ],\n",
              "          [0.6949877 , 0.6672107 , 0.69697624]]],\n",
              " \n",
              " \n",
              "        [[[0.9960512 , 0.996732  , 0.9690087 ],\n",
              "          [0.99313724, 1.        , 0.9970588 ],\n",
              "          [0.9924836 , 1.        , 0.98856205],\n",
              "          ...,\n",
              "          [0.80947715, 0.7192811 , 0.58594775],\n",
              "          [0.8022876 , 0.7160131 , 0.570915  ],\n",
              "          [0.8101306 , 0.7199345 , 0.58660114]],\n",
              " \n",
              "         [[0.9949346 , 0.9897876 , 0.95735294],\n",
              "          [0.99607843, 1.        , 1.        ],\n",
              "          [0.99607843, 1.        , 0.99215686],\n",
              "          ...,\n",
              "          [0.8088235 , 0.71862745, 0.5852941 ],\n",
              "          [0.810049  , 0.7198529 , 0.5865196 ],\n",
              "          [0.80416656, 0.7139705 , 0.58063716]],\n",
              " \n",
              "         [[0.98464054, 0.9754902 , 0.9371187 ],\n",
              "          [1.        , 1.        , 1.        ],\n",
              "          [0.99607843, 1.        , 0.99215686],\n",
              "          ...,\n",
              "          [0.8032681 , 0.713072  , 0.5797387 ],\n",
              "          [0.8068628 , 0.7205882 , 0.5754902 ],\n",
              "          [0.80163383, 0.71143776, 0.57810444]],\n",
              " \n",
              "         ...,\n",
              " \n",
              "         [[0.3575709 , 0.337963  , 0.26345322],\n",
              "          [0.35196078, 0.3245098 , 0.25392157],\n",
              "          [0.35953173, 0.33208072, 0.2614925 ],\n",
              "          ...,\n",
              "          [0.8111385 , 0.68172675, 0.5052561 ],\n",
              "          [0.81086624, 0.6814545 , 0.5049839 ],\n",
              "          [0.81116575, 0.68175393, 0.5131265 ]],\n",
              " \n",
              "         [[0.34795752, 0.32050654, 0.24599673],\n",
              "          [0.37132353, 0.33995098, 0.26544118],\n",
              "          [0.34199345, 0.30669934, 0.24003267],\n",
              "          ...,\n",
              "          [0.8085785 , 0.6870099 , 0.51446086],\n",
              "          [0.8009804 , 0.67941177, 0.4990196 ],\n",
              "          [0.80343115, 0.68186253, 0.50931346]],\n",
              " \n",
              "         [[0.33605686, 0.30860588, 0.23409608],\n",
              "          [0.336601  , 0.30130687, 0.23464021],\n",
              "          [0.3327887 , 0.2974946 , 0.23082793],\n",
              "          ...,\n",
              "          [0.78673714, 0.6730116 , 0.5004626 ],\n",
              "          [0.78267944, 0.6767971 , 0.5081696 ],\n",
              "          [0.770179  , 0.66037506, 0.5074339 ]]],\n",
              " \n",
              " \n",
              "        [[[0.706536  , 0.62026143, 0.5261438 ],\n",
              "          [0.7131536 , 0.6268791 , 0.53276145],\n",
              "          [0.7069444 , 0.62851304, 0.5304738 ],\n",
              "          ...,\n",
              "          [0.64346397, 0.54542476, 0.4669934 ],\n",
              "          [0.6431373 , 0.54509807, 0.46666667],\n",
              "          [0.6392157 , 0.5411765 , 0.4627451 ]],\n",
              " \n",
              "         [[0.7005719 , 0.6221405 , 0.5241013 ],\n",
              "          [0.6997549 , 0.6134804 , 0.51936275],\n",
              "          [0.71781045, 0.63153595, 0.5374183 ],\n",
              "          ...,\n",
              "          [0.6431373 , 0.54509807, 0.46666667],\n",
              "          [0.64215684, 0.5441176 , 0.46568626],\n",
              "          [0.6394607 , 0.5414215 , 0.46299008]],\n",
              " \n",
              "         [[0.6895425 , 0.6111111 , 0.5130719 ],\n",
              "          [0.69509804, 0.6166667 , 0.51862746],\n",
              "          [0.70305014, 0.6089325 , 0.51481485],\n",
              "          ...,\n",
              "          [0.64705884, 0.54901963, 0.47058824],\n",
              "          [0.6401144 , 0.54207516, 0.4636438 ],\n",
              "          [0.6373912 , 0.539352  , 0.46092063]],\n",
              " \n",
              "         ...,\n",
              " \n",
              "         [[0.23954241, 0.17273961, 0.14109479],\n",
              "          [0.99281055, 0.93006545, 0.87001646],\n",
              "          [0.407162  , 0.34049532, 0.31274486],\n",
              "          ...,\n",
              "          [0.26541424, 0.21443385, 0.18306129],\n",
              "          [0.25465715, 0.1997552 , 0.16446108],\n",
              "          [0.26429752, 0.21331714, 0.17802303]],\n",
              " \n",
              "         [[0.83937913, 0.79526144, 0.7207516 ],\n",
              "          [0.91813725, 0.8960784 , 0.8272059 ],\n",
              "          [0.6781863 , 0.65612745, 0.64158493],\n",
              "          ...,\n",
              "          [0.22794081, 0.17696042, 0.14166631],\n",
              "          [0.25661764, 0.2017157 , 0.15857843],\n",
              "          [0.24624191, 0.19133995, 0.14820269]],\n",
              " \n",
              "         [[0.7263319 , 0.65214837, 0.57663184],\n",
              "          [0.8685431 , 0.8457486 , 0.7800628 ],\n",
              "          [0.9965684 , 0.97758585, 0.9636699 ],\n",
              "          ...,\n",
              "          [0.22777745, 0.1728755 , 0.13758138],\n",
              "          [0.23733687, 0.18243492, 0.13929766],\n",
              "          [0.23657325, 0.18167129, 0.14637718]]],\n",
              " \n",
              " \n",
              "        ...,\n",
              " \n",
              " \n",
              "        [[[0.5764706 , 0.5058824 , 0.42745098],\n",
              "          [0.57949346, 0.50890523, 0.43047386],\n",
              "          [0.6078976 , 0.53730935, 0.45887798],\n",
              "          ...,\n",
              "          [0.65509254, 0.5845043 , 0.49038666],\n",
              "          [0.6623366 , 0.59174836, 0.49763072],\n",
              "          [0.64869267, 0.57810444, 0.48398677]],\n",
              " \n",
              "         [[0.5803922 , 0.5058824 , 0.4392157 ],\n",
              "          [0.577451  , 0.50686276, 0.42843136],\n",
              "          [0.60882354, 0.5382353 , 0.45196077],\n",
              "          ...,\n",
              "          [0.648856  , 0.57826775, 0.48415014],\n",
              "          [0.6526961 , 0.58210784, 0.4879902 ],\n",
              "          [0.6584151 , 0.58782685, 0.49370918]],\n",
              " \n",
              "         [[0.5841231 , 0.51353484, 0.43510348],\n",
              "          [0.5761438 , 0.50555557, 0.41928104],\n",
              "          [0.60718954, 0.5366013 , 0.44248363],\n",
              "          ...,\n",
              "          [0.64409024, 0.573502  , 0.4793844 ],\n",
              "          [0.6487745 , 0.5781863 , 0.48406863],\n",
              "          [0.640986  , 0.5703978 , 0.4762801 ]],\n",
              " \n",
              "         ...,\n",
              " \n",
              "         [[0.29765797, 0.270207  , 0.2309913 ],\n",
              "          [0.27385613, 0.24248359, 0.19934632],\n",
              "          [0.2854304 , 0.2501363 , 0.21484217],\n",
              "          ...,\n",
              "          [0.5908209 , 0.43787977, 0.44180134],\n",
              "          [0.7325963 , 0.5953414 , 0.571812  ],\n",
              "          [0.65930986, 0.54670113, 0.50506157]],\n",
              " \n",
              "         [[0.2978758 , 0.2586601 , 0.22336602],\n",
              "          [0.28014705, 0.24093138, 0.20563726],\n",
              "          [0.29248363, 0.25326794, 0.21797386],\n",
              "          ...,\n",
              "          [0.8513893 , 0.69844806, 0.70236963],\n",
              "          [0.5740196 , 0.4365196 , 0.42328432],\n",
              "          [0.88741934, 0.7574356 , 0.7421583 ]],\n",
              " \n",
              "         [[0.25353947, 0.2143238 , 0.17902969],\n",
              "          [0.24910158, 0.2098859 , 0.17459178],\n",
              "          [0.25718907, 0.21797338, 0.18267927],\n",
              "          ...,\n",
              "          [0.5612211 , 0.43965247, 0.43180934],\n",
              "          [0.8522887 , 0.73072004, 0.7111122 ],\n",
              "          [0.74100816, 0.62927115, 0.64493066]]],\n",
              " \n",
              " \n",
              "        [[[0.7418573 , 0.69479847, 0.5928377 ],\n",
              "          [0.75947714, 0.7124183 , 0.61045754],\n",
              "          [0.7921569 , 0.74509805, 0.6431373 ],\n",
              "          ...,\n",
              "          [0.87464595, 0.77268517, 0.62758714],\n",
              "          [0.86797386, 0.77385616, 0.62483656],\n",
              "          [0.8595043 , 0.7575435 , 0.6124455 ]],\n",
              " \n",
              "         [[0.7572713 , 0.7102124 , 0.60825163],\n",
              "          [0.78186274, 0.7348039 , 0.63284314],\n",
              "          [0.8242647 , 0.7772059 , 0.6752451 ],\n",
              "          ...,\n",
              "          [0.8724671 , 0.7705063 , 0.6254083 ],\n",
              "          [0.8634804 , 0.7615196 , 0.6164216 ],\n",
              "          [0.85678124, 0.75482047, 0.60972244]],\n",
              " \n",
              "         [[0.78608394, 0.7390251 , 0.63706434],\n",
              "          [0.8098856 , 0.7628268 , 0.660866  ],\n",
              "          [0.8447985 , 0.7977397 , 0.6957789 ],\n",
              "          ...,\n",
              "          [0.8636982 , 0.7617374 , 0.6166394 ],\n",
              "          [0.8666667 , 0.76862746, 0.6117647 ],\n",
              "          [0.8580335 , 0.75999427, 0.60313153]],\n",
              " \n",
              "         ...,\n",
              " \n",
              "         [[0.18379626, 0.09360018, 0.03085509],\n",
              "          [0.19444485, 0.10424876, 0.0493468 ],\n",
              "          [0.20378543, 0.11358936, 0.0586874 ],\n",
              "          ...,\n",
              "          [0.26693988, 0.22380266, 0.10615559],\n",
              "          [0.24828401, 0.19338205, 0.07965656],\n",
              "          [0.24065796, 0.185756  , 0.07203051]],\n",
              " \n",
              "         [[0.20040849, 0.11021242, 0.05531046],\n",
              "          [0.19656862, 0.10637255, 0.05147059],\n",
              "          [0.18872549, 0.08676472, 0.03578433],\n",
              "          ...,\n",
              "          [0.22165006, 0.1667481 , 0.06086575],\n",
              "          [0.23357843, 0.17867647, 0.07279412],\n",
              "          [0.24346422, 0.18856224, 0.0826799 ]],\n",
              " \n",
              "         [[0.19084887, 0.1006528 , 0.04575083],\n",
              "          [0.2082516 , 0.11805551, 0.06315356],\n",
              "          [0.1980138 , 0.10781772, 0.05291577],\n",
              "          ...,\n",
              "          [0.22783194, 0.17292999, 0.07096919],\n",
              "          [0.23063713, 0.17573518, 0.06985282],\n",
              "          [0.22486402, 0.16996206, 0.0640797 ]]],\n",
              " \n",
              " \n",
              "        [[[0.75522876, 0.66895425, 0.5866013 ],\n",
              "          [0.73194444, 0.63390523, 0.55547386],\n",
              "          [0.74019605, 0.64215684, 0.5637255 ],\n",
              "          ...,\n",
              "          [0.7707789 , 0.6845044 , 0.5943083 ],\n",
              "          [0.77254903, 0.6862745 , 0.59607846],\n",
              "          [0.76405215, 0.6856208 , 0.59150314]],\n",
              " \n",
              "         [[0.75351304, 0.6711601 , 0.58880717],\n",
              "          [0.7019608 , 0.6156863 , 0.53333336],\n",
              "          [0.7366013 , 0.6503268 , 0.56797385],\n",
              "          ...,\n",
              "          [0.77483654, 0.6964052 , 0.60228753],\n",
              "          [0.7737745 , 0.69534314, 0.6012255 ],\n",
              "          [0.75179684, 0.6812086 , 0.58709097]],\n",
              " \n",
              "         [[0.74882895, 0.66255444, 0.5802015 ],\n",
              "          [0.69436276, 0.60808825, 0.5257353 ],\n",
              "          [0.7333606 , 0.647086  , 0.5647331 ],\n",
              "          ...,\n",
              "          [0.7601308 , 0.68169945, 0.5875818 ],\n",
              "          [0.7336601 , 0.6630719 , 0.5689542 ],\n",
              "          [0.7566721 , 0.6782407 , 0.5841231 ]],\n",
              " \n",
              "         ...,\n",
              " \n",
              "         [[0.246759  , 0.21146488, 0.17617077],\n",
              "          [0.26454252, 0.22532684, 0.19003272],\n",
              "          [0.2653867 , 0.226171  , 0.19087689],\n",
              "          ...,\n",
              "          [0.45141512, 0.3889695 , 0.33014598],\n",
              "          [0.64125574, 0.51241624, 0.49329847],\n",
              "          [0.61826754, 0.43787536, 0.44964007]],\n",
              " \n",
              "         [[0.2889706 , 0.25759804, 0.21446079],\n",
              "          [0.25955883, 0.22034314, 0.18112744],\n",
              "          [0.30506536, 0.25408494, 0.2227124 ],\n",
              "          ...,\n",
              "          [0.39027774, 0.35498363, 0.28831697],\n",
              "          [0.50539213, 0.43823528, 0.39019608],\n",
              "          [0.7072717 , 0.5450165 , 0.54771274]],\n",
              " \n",
              "         [[0.2847497 , 0.24553397, 0.20631829],\n",
              "          [0.28798935, 0.24877368, 0.21347955],\n",
              "          [0.1581691 , 0.11503186, 0.09934559],\n",
              "          ...,\n",
              "          [0.32382604, 0.3002966 , 0.2140221 ],\n",
              "          [0.41813606, 0.38480273, 0.31715566],\n",
              "          [0.743602  , 0.6201271 , 0.613237  ]]]], dtype=float32), (array([[1],\n",
              "         [1],\n",
              "         [1],\n",
              "         [0],\n",
              "         [1],\n",
              "         [0],\n",
              "         [1],\n",
              "         [1]], dtype=uint8), array([[0.1335 , 0.352  , 0.358  , 0.679  ],\n",
              "         [0.3215 , 0.2678 , 0.6904 , 0.806  ],\n",
              "         [0.92   , 0.4155 , 1.     , 0.7676 ],\n",
              "         [0.     , 0.     , 0.     , 0.     ],\n",
              "         [0.07275, 0.3086 , 0.385  , 0.7803 ],\n",
              "         [0.     , 0.     , 0.     , 0.     ],\n",
              "         [0.5586 , 0.1109 , 0.876  , 0.561  ],\n",
              "         [0.     , 0.2244 , 0.2815 , 0.666  ]], dtype=float16)))"
            ]
          },
          "metadata": {},
          "execution_count": 64
        }
      ]
    },
    {
      "cell_type": "code",
      "source": [
        "X, y = train.as_numpy_iterator().next()"
      ],
      "metadata": {
        "id": "bLacVbgvEl74"
      },
      "execution_count": null,
      "outputs": []
    },
    {
      "cell_type": "code",
      "source": [
        "X.shape"
      ],
      "metadata": {
        "id": "Jp-5Nw_q_GFB",
        "colab": {
          "base_uri": "https://localhost:8080/"
        },
        "outputId": "f262ace8-163f-4052-b731-e877ab809a5a"
      },
      "execution_count": null,
      "outputs": [
        {
          "output_type": "execute_result",
          "data": {
            "text/plain": [
              "(8, 120, 120, 3)"
            ]
          },
          "metadata": {},
          "execution_count": 66
        }
      ]
    },
    {
      "cell_type": "code",
      "source": [
        "y"
      ],
      "metadata": {
        "id": "2A8-Wevj_TAI",
        "colab": {
          "base_uri": "https://localhost:8080/"
        },
        "outputId": "83c06621-e1c2-4630-be95-f71bcdd3d8bb"
      },
      "execution_count": null,
      "outputs": [
        {
          "output_type": "execute_result",
          "data": {
            "text/plain": [
              "(array([[1],\n",
              "        [1],\n",
              "        [1],\n",
              "        [1],\n",
              "        [1],\n",
              "        [1],\n",
              "        [1],\n",
              "        [1]], dtype=uint8), array([[0.1527 , 0.2703 , 0.435  , 0.6904 ],\n",
              "        [0.853  , 0.414  , 1.     , 0.766  ],\n",
              "        [0.633  , 0.2412 , 0.927  , 0.683  ],\n",
              "        [0.03047, 0.2369 , 0.3245 , 0.6787 ],\n",
              "        [0.     , 0.6733 , 0.33   , 0.932  ],\n",
              "        [0.3286 , 0.2793 , 0.6973 , 0.8174 ],\n",
              "        [0.6187 , 0.3872 , 1.     , 0.751  ],\n",
              "        [0.5117 , 0.5557 , 0.912  , 0.8384 ]], dtype=float16))"
            ]
          },
          "metadata": {},
          "execution_count": 67
        }
      ]
    },
    {
      "cell_type": "code",
      "source": [
        "classes, coords = facetracker.predict(X)"
      ],
      "metadata": {
        "id": "BX-HgHro_UoW",
        "colab": {
          "base_uri": "https://localhost:8080/"
        },
        "outputId": "20249415-6952-42e6-d25b-08a09cd6d5f9"
      },
      "execution_count": null,
      "outputs": [
        {
          "output_type": "stream",
          "name": "stdout",
          "text": [
            "1/1 [==============================] - 1s 1s/step\n"
          ]
        }
      ]
    },
    {
      "cell_type": "code",
      "source": [
        "classes, coords"
      ],
      "metadata": {
        "id": "Q0qOcJe__bzR",
        "colab": {
          "base_uri": "https://localhost:8080/"
        },
        "outputId": "638b1a51-e48b-4247-9544-41c5f9532076"
      },
      "execution_count": null,
      "outputs": [
        {
          "output_type": "execute_result",
          "data": {
            "text/plain": [
              "(array([[0.59620464],\n",
              "        [0.5767364 ],\n",
              "        [0.590067  ],\n",
              "        [0.53187156],\n",
              "        [0.59976584],\n",
              "        [0.6425752 ],\n",
              "        [0.58045113],\n",
              "        [0.61805093]], dtype=float32),\n",
              " array([[0.49742946, 0.39605537, 0.3157947 , 0.4283217 ],\n",
              "        [0.527112  , 0.47794154, 0.38922086, 0.49365085],\n",
              "        [0.4835826 , 0.46381503, 0.2865837 , 0.46406433],\n",
              "        [0.4719864 , 0.46675166, 0.2849773 , 0.44604418],\n",
              "        [0.5435453 , 0.43040943, 0.323467  , 0.49218366],\n",
              "        [0.48468554, 0.42463756, 0.26803178, 0.44905755],\n",
              "        [0.37775433, 0.4650728 , 0.25799856, 0.48673385],\n",
              "        [0.5239847 , 0.478245  , 0.3340982 , 0.47023058]], dtype=float32))"
            ]
          },
          "metadata": {},
          "execution_count": 69
        }
      ]
    },
    {
      "cell_type": "markdown",
      "source": [
        "Define Lossesand Optimizers\n"
      ],
      "metadata": {
        "id": "y9FzSSUYFpYp"
      }
    },
    {
      "cell_type": "code",
      "source": [
        "from tensorflow.keras.optimizers import Adam\n",
        "Batches_per_epoch = len(train)\n",
        "lr_decay = (1./0.75-1)/Batches_per_epoch\n",
        "opt = tf.keras.optimizers.Adam(learning_rate = 0.01,\n",
        "                                     decay = lr_decay)"
      ],
      "metadata": {
        "id": "9MFzhfyg_fEP"
      },
      "execution_count": null,
      "outputs": []
    },
    {
      "cell_type": "code",
      "source": [
        "#Localization Loss:\n",
        "\n",
        "def loc_loss(y_true, yhat):\n",
        "  delta_coord = tf.reduce_sum(tf.square(y_true[:,:2]-yhat[:,:2]))\n",
        "\n",
        "  h_true = y_true[:,3] - y_true[:,1]\n",
        "  w_true = y_true[:,2] - y_true[:,0]\n",
        "\n",
        "  h_pred = yhat[:,3] - yhat[:,1]\n",
        "  w_pred = yhat[:,2] - yhat[:,0]\n",
        "\n",
        "  delta_size = tf.reduce_sum(tf.square(w_true-w_pred) + (h_true-h_pred))\n",
        "  return delta_coord + delta_size"
      ],
      "metadata": {
        "id": "qpgviN8tGXXc"
      },
      "execution_count": null,
      "outputs": []
    },
    {
      "cell_type": "code",
      "source": [
        "classloss = tf.keras.losses.BinaryCrossentropy()\n",
        "regressloss = loc_loss"
      ],
      "metadata": {
        "id": "UnsgUEreH2qz"
      },
      "execution_count": null,
      "outputs": []
    },
    {
      "cell_type": "markdown",
      "source": [
        "#Train Neural Network"
      ],
      "metadata": {
        "id": "FMeFn2ZesFr4"
      }
    },
    {
      "cell_type": "code",
      "source": [
        "class Facetracker(Model):\n",
        "  def __init__(self, eyetracker,  **kwargs):\n",
        "    super().__init__(**kwargs)\n",
        "    self.model = eyetracker\n",
        "  def compile(self, opt, classloss, regressloss, **kwargs):\n",
        "    super().compile(**kwargs)\n",
        "    self.closs = classloss\n",
        "    self.lloss = regressloss\n",
        "    self.opt = opt\n",
        "  def train_step(self, batch, **kwargs):\n",
        "    X, y = batch\n",
        "    with tf.GradientTape() as tape:\n",
        "      #Make predictions:\n",
        "      classes, coords = self.model(X, training = True)\n",
        "      #Calculate the loss:\n",
        "      batch_classloss = self.closs(y[0], classes)\n",
        "      batch_locloss = self.lloss(tf.cast(y[1], tf.float32), coords)\n",
        "      total_loss = batch_classloss*0.5 + batch_locloss\n",
        "      #calculate the gradients:\n",
        "      grad = tape.gradient(total_loss, self.model.trainable_variables)\n",
        "      #loop through each variable:\n",
        "      opt.apply_gradients(zip(grad, self.model.trainable_variables))\n",
        "\n",
        "      return {\"total_loss\":total_loss, \"class_loss\":batch_classloss, \"regress_loss\":batch_locloss}\n",
        "\n",
        "  def test_step(self, batch, **kwargs):\n",
        "    X, y = batch\n",
        "    classes, coords = self.model(X, training = False)\n",
        "    batch_classloss = self.closs(y[0], classes)\n",
        "    batch_locloss = self.lloss(tf.cast(y[1], tf.float32), coords)\n",
        "    total_loss = batch_classloss*0.5 + batch_locloss\n",
        "    return {\"total_val_loss\":total_loss, \"val_class_loss\":batch_classloss, \"val_regress_loss\":batch_locloss}\n",
        "\n",
        "\n",
        "\n"
      ],
      "metadata": {
        "id": "4eihK1VlrVT1"
      },
      "execution_count": null,
      "outputs": []
    },
    {
      "cell_type": "code",
      "source": [
        "model = Facetracker(facetracker)"
      ],
      "metadata": {
        "id": "pR0a_Doh5q2j"
      },
      "execution_count": null,
      "outputs": []
    },
    {
      "cell_type": "code",
      "source": [
        "model.compile(opt, classloss, loc_loss)"
      ],
      "metadata": {
        "id": "Fu6rz5Xt6DBd"
      },
      "execution_count": null,
      "outputs": []
    },
    {
      "cell_type": "markdown",
      "source": [
        "Train"
      ],
      "metadata": {
        "id": "dvRnoISO6e22"
      }
    },
    {
      "cell_type": "code",
      "source": [
        "hist = model.fit(train.take(100), epochs = 10, validation_data = valid)"
      ],
      "metadata": {
        "colab": {
          "base_uri": "https://localhost:8080/"
        },
        "id": "-LHcLoQd6QYD",
        "outputId": "35921451-c25e-4925-dd3d-364e0c3d3e2a"
      },
      "execution_count": null,
      "outputs": [
        {
          "output_type": "stream",
          "name": "stdout",
          "text": [
            "Epoch 1/10\n",
            "100/100 [==============================] - 623s 6s/step - total_loss: 2.8497 - class_loss: 2.5667 - regress_loss: 1.5664 - val_total_val_loss: 0.4851 - val_val_class_loss: 0.0000e+00 - val_val_regress_loss: 0.4851\n",
            "Epoch 2/10\n",
            "100/100 [==============================] - 615s 6s/step - total_loss: 2.8453 - class_loss: 2.4157 - regress_loss: 1.6374 - val_total_val_loss: 0.8023 - val_val_class_loss: 0.0000e+00 - val_val_regress_loss: 0.8023\n",
            "Epoch 3/10\n",
            "100/100 [==============================] - 621s 6s/step - total_loss: 2.9114 - class_loss: 2.1892 - regress_loss: 1.8168 - val_total_val_loss: 0.7336 - val_val_class_loss: 0.0000e+00 - val_val_regress_loss: 0.7336\n",
            "Epoch 4/10\n",
            "100/100 [==============================] - 617s 6s/step - total_loss: 2.8507 - class_loss: 2.3780 - regress_loss: 1.6617 - val_total_val_loss: 0.9313 - val_val_class_loss: 0.0000e+00 - val_val_regress_loss: 0.9313\n",
            "Epoch 5/10\n",
            "100/100 [==============================] - 619s 6s/step - total_loss: 2.8029 - class_loss: 2.3402 - regress_loss: 1.6328 - val_total_val_loss: 0.5167 - val_val_class_loss: 0.0000e+00 - val_val_regress_loss: 0.5167\n",
            "Epoch 6/10\n",
            "100/100 [==============================] - 618s 6s/step - total_loss: 2.6125 - class_loss: 2.0571 - regress_loss: 1.5839 - val_total_val_loss: 0.4058 - val_val_class_loss: 0.0000e+00 - val_val_regress_loss: 0.4058\n",
            "Epoch 7/10\n",
            "100/100 [==============================] - 624s 6s/step - total_loss: 2.7076 - class_loss: 2.3402 - regress_loss: 1.5375 - val_total_val_loss: 1.1998 - val_val_class_loss: 0.0000e+00 - val_val_regress_loss: 1.1998\n",
            "Epoch 8/10\n",
            "100/100 [==============================] - 618s 6s/step - total_loss: 2.9518 - class_loss: 2.4912 - regress_loss: 1.7062 - val_total_val_loss: 0.4380 - val_val_class_loss: 0.0000e+00 - val_val_regress_loss: 0.4380\n",
            "Epoch 9/10\n",
            "100/100 [==============================] - 618s 6s/step - total_loss: 2.8635 - class_loss: 2.3968 - regress_loss: 1.6651 - val_total_val_loss: 0.9235 - val_val_class_loss: 0.0000e+00 - val_val_regress_loss: 0.9235\n",
            "Epoch 10/10\n",
            "100/100 [==============================] - 622s 6s/step - total_loss: 2.8779 - class_loss: 2.3968 - regress_loss: 1.6794 - val_total_val_loss: 0.9172 - val_val_class_loss: 0.0000e+00 - val_val_regress_loss: 0.9172\n"
          ]
        }
      ]
    },
    {
      "cell_type": "code",
      "source": [
        "hist.history"
      ],
      "metadata": {
        "id": "TzS4Z9md6tIm",
        "colab": {
          "base_uri": "https://localhost:8080/"
        },
        "outputId": "53c0df6f-e870-4be7-8602-8e69db75314f"
      },
      "execution_count": null,
      "outputs": [
        {
          "output_type": "execute_result",
          "data": {
            "text/plain": [
              "{'total_loss': [2.371978998184204,\n",
              "  1.149691104888916,\n",
              "  0.5329248905181885,\n",
              "  3.5627102851867676,\n",
              "  2.9518790245056152,\n",
              "  0.9430278539657593,\n",
              "  2.7426681518554688,\n",
              "  2.210876226425171,\n",
              "  2.685654640197754,\n",
              "  3.0789434909820557],\n",
              " 'class_loss': [1.906154751777649,\n",
              "  0.0,\n",
              "  0.0,\n",
              "  3.812309503555298,\n",
              "  3.812309503555298,\n",
              "  0.0,\n",
              "  1.906154751777649,\n",
              "  1.906154751777649,\n",
              "  3.812309503555298,\n",
              "  1.906154751777649],\n",
              " 'regress_loss': [1.4189016819000244,\n",
              "  1.149691104888916,\n",
              "  0.5329248905181885,\n",
              "  1.6565555334091187,\n",
              "  1.0457243919372559,\n",
              "  0.9430278539657593,\n",
              "  1.7895907163619995,\n",
              "  1.2577987909317017,\n",
              "  0.7794999480247498,\n",
              "  2.125866174697876],\n",
              " 'val_total_val_loss': [0.48505449295043945,\n",
              "  0.8022545576095581,\n",
              "  0.7335912585258484,\n",
              "  0.9312502145767212,\n",
              "  0.5166942477226257,\n",
              "  0.40577805042266846,\n",
              "  1.1998066902160645,\n",
              "  0.43801379203796387,\n",
              "  0.9234704375267029,\n",
              "  0.9172437787055969],\n",
              " 'val_val_class_loss': [0.0, 0.0, 0.0, 0.0, 0.0, 0.0, 0.0, 0.0, 0.0, 0.0],\n",
              " 'val_val_regress_loss': [0.48505449295043945,\n",
              "  0.8022545576095581,\n",
              "  0.7335912585258484,\n",
              "  0.9312502145767212,\n",
              "  0.5166942477226257,\n",
              "  0.40577805042266846,\n",
              "  1.1998066902160645,\n",
              "  0.43801379203796387,\n",
              "  0.9234704375267029,\n",
              "  0.9172437787055969]}"
            ]
          },
          "metadata": {},
          "execution_count": 24
        }
      ]
    },
    {
      "cell_type": "code",
      "source": [
        "fig, ax = plt.subplots(ncols=3, figsize=(20,5))\n",
        "\n",
        "ax[0].plot(hist.history['total_loss'], color='teal', label='loss')\n",
        "ax[0].plot(hist.history['val_total_val_loss'], color='orange', label='val loss')\n",
        "ax[0].title.set_text('Loss')\n",
        "ax[0].legend()\n",
        "\n",
        "ax[1].plot(hist.history['class_loss'], color='teal', label='class loss')\n",
        "ax[1].plot(hist.history['val_val_class_loss'], color='orange', label='val class loss')\n",
        "ax[1].title.set_text('Classification Loss')\n",
        "ax[1].legend()\n",
        "\n",
        "ax[2].plot(hist.history['regress_loss'], color='teal', label='regress loss')\n",
        "ax[2].plot(hist.history['val_val_regress_loss'], color='orange', label='val regress loss')\n",
        "ax[2].title.set_text('Regression Loss')\n",
        "ax[2].legend()\n",
        "\n",
        "plt.show()\n"
      ],
      "metadata": {
        "colab": {
          "base_uri": "https://localhost:8080/",
          "height": 298
        },
        "id": "EGi1xJWSNuQk",
        "outputId": "ece5ebda-462b-4ac1-c883-bb524bc0a3f0"
      },
      "execution_count": null,
      "outputs": [
        {
          "output_type": "display_data",
          "data": {
            "text/plain": [
              "<Figure size 1440x360 with 3 Axes>"
            ],
            "image/png": "[encoded data removed]"
          },
          "metadata": {
            "needs_background": "light"
          }
        }
      ]
    }
  ]
}